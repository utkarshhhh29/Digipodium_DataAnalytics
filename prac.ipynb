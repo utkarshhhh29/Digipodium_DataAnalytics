{
 "cells": [
  {
   "cell_type": "markdown",
   "metadata": {},
   "source": [
    "# Factorial of a number"
   ]
  },
  {
   "cell_type": "code",
   "execution_count": 1,
   "metadata": {},
   "outputs": [
    {
     "name": "stdout",
     "output_type": "stream",
     "text": [
      "Factorial of 5 is 120\n"
     ]
    }
   ],
   "source": [
    "n = int(input('Enter a number'))\n",
    "fact = 1\n",
    "if n < 0:\n",
    "    print('Factorial of negative number not possible.')\n",
    "elif n == 0:\n",
    "    print('Factorial of 0 is 1')\n",
    "else:\n",
    "    for i in range(1,n+1):\n",
    "        fact=fact*i\n",
    "    print(f'Factorial of {n} is {fact}')"
   ]
  },
  {
   "cell_type": "code",
   "execution_count": 1,
   "metadata": {},
   "outputs": [
    {
     "name": "stdout",
     "output_type": "stream",
     "text": [
      "Factorial of 5 is 120\n"
     ]
    }
   ],
   "source": [
    "n = int(input('Enter a number'))\n",
    "fact = 1\n",
    "i = 1\n",
    "if n < 0:\n",
    "    print('Factorial of negative number not possible.')\n",
    "elif n == 0:\n",
    "    print('Factorial of 0 is 1')\n",
    "else:\n",
    "    while i <= n:\n",
    "        fact=fact*i\n",
    "        i+=1\n",
    "    print(f'Factorial of {n} is {fact}')"
   ]
  },
  {
   "cell_type": "markdown",
   "metadata": {},
   "source": [
    "# Fibonacci Series"
   ]
  },
  {
   "cell_type": "code",
   "execution_count": 6,
   "metadata": {},
   "outputs": [
    {
     "name": "stdout",
     "output_type": "stream",
     "text": [
      "0\n",
      "1\n",
      "1\n",
      "2\n",
      "3\n",
      "5\n",
      "8\n",
      "13\n",
      "21\n",
      "34\n"
     ]
    }
   ],
   "source": [
    "n=int(input('Enter a number till where we want Fibonacci seires:'))\n",
    "first=0\n",
    "second=1\n",
    "print(first)\n",
    "print(second)\n",
    "for i in range(2,n):\n",
    "    next=first+second\n",
    "    first=second\n",
    "    second=next\n",
    "    print(next)\n",
    "    \n"
   ]
  },
  {
   "cell_type": "code",
   "execution_count": 12,
   "metadata": {},
   "outputs": [
    {
     "name": "stdout",
     "output_type": "stream",
     "text": [
      "0\n",
      "1\n",
      "1\n",
      "2\n",
      "3\n"
     ]
    }
   ],
   "source": [
    "n=int(input('Enter a number till where we want Fibonacci seires:'))\n",
    "first=0\n",
    "second=1\n",
    "print(first)\n",
    "print(second)\n",
    "i=0\n",
    "while i<n-2:\n",
    "    next=first+second\n",
    "    first=second\n",
    "    second=next\n",
    "    i+=1\n",
    "    print(next)"
   ]
  },
  {
   "cell_type": "markdown",
   "metadata": {},
   "source": [
    "# Swapping of two digits in a number"
   ]
  },
  {
   "cell_type": "code",
   "execution_count": 5,
   "metadata": {},
   "outputs": [
    {
     "name": "stdout",
     "output_type": "stream",
     "text": [
      "52\n"
     ]
    }
   ],
   "source": [
    "a = 25\n",
    "rev = 0\n",
    "while a>0:\n",
    "    ld = a%10\n",
    "    rev = rev*10+ld\n",
    "    a = a//10\n",
    "print(rev)"
   ]
  },
  {
   "cell_type": "markdown",
   "metadata": {},
   "source": [
    "# Swapping of two numbers"
   ]
  },
  {
   "cell_type": "code",
   "execution_count": 7,
   "metadata": {},
   "outputs": [
    {
     "name": "stdout",
     "output_type": "stream",
     "text": [
      "Before swapping: 2 5\n",
      "After swapping: 5 2\n"
     ]
    }
   ],
   "source": [
    "a=2\n",
    "b=5\n",
    "print(\"Before swapping:\",a,b)\n",
    "c=a\n",
    "a=b\n",
    "b=c\n",
    "print(\"After swapping:\",a,b)"
   ]
  },
  {
   "cell_type": "markdown",
   "metadata": {},
   "source": [
    "# Reversal of String"
   ]
  },
  {
   "cell_type": "code",
   "execution_count": 8,
   "metadata": {},
   "outputs": [
    {
     "name": "stdout",
     "output_type": "stream",
     "text": [
      "all hello\n"
     ]
    }
   ],
   "source": [
    "st = \"hello all\"\n",
    "a=st.split()\n",
    "a=a[::-1]\n",
    "b=\" \".join(a)\n",
    "print(b)"
   ]
  },
  {
   "cell_type": "code",
   "execution_count": 9,
   "metadata": {},
   "outputs": [
    {
     "name": "stdout",
     "output_type": "stream",
     "text": [
      "lla olleh\n"
     ]
    }
   ],
   "source": [
    "st = \"hello all\"\n",
    "a=st[::-1]\n",
    "print(a)\n"
   ]
  },
  {
   "cell_type": "markdown",
   "metadata": {},
   "source": [
    "# Prime number"
   ]
  },
  {
   "cell_type": "code",
   "execution_count": 29,
   "metadata": {},
   "outputs": [
    {
     "name": "stdout",
     "output_type": "stream",
     "text": [
      "12 is not a prime number.\n"
     ]
    }
   ],
   "source": [
    "x = int(input('Enter a number:'))\n",
    "for i in range(2,x):\n",
    "    if x%i==0:\n",
    "        print(f'{x} is not a prime number.')\n",
    "        break\n",
    "    else:\n",
    "        print(f'{x} is a prime number.')\n",
    "        break"
   ]
  },
  {
   "cell_type": "code",
   "execution_count": 36,
   "metadata": {},
   "outputs": [
    {
     "name": "stdout",
     "output_type": "stream",
     "text": [
      "13 is a prime number.\n"
     ]
    }
   ],
   "source": [
    "x = int(input('Enter a number:'))\n",
    "i = 2\n",
    "while i<x:\n",
    "    if x%i==0:\n",
    "        print(f'{x} is not a prime number.')\n",
    "        i+=1\n",
    "        break\n",
    "    else:\n",
    "        print(f'{x} is a prime number.')\n",
    "        break"
   ]
  },
  {
   "cell_type": "markdown",
   "metadata": {},
   "source": [
    "# Armstrong number"
   ]
  },
  {
   "cell_type": "code",
   "execution_count": 43,
   "metadata": {},
   "outputs": [
    {
     "name": "stdout",
     "output_type": "stream",
     "text": [
      "123 is not an armstrong number because the resultant is equal to 36\n"
     ]
    }
   ],
   "source": [
    "num = int(input('Enter a number:'))\n",
    "sum = 0\n",
    "x = num\n",
    "order = len(str(num))\n",
    "while num>0:\n",
    "    ld=num%10\n",
    "    sum=sum+ld**order\n",
    "    num=num//10\n",
    "if sum==num:\n",
    "    print(f'{x} is an armstrong number and the resultant is equal to {sum}')\n",
    "else:\n",
    "    print(f'{x} is not an armstrong number because the resultant is equal to {sum}')"
   ]
  },
  {
   "cell_type": "markdown",
   "metadata": {},
   "source": [
    "# Call by Value (for immutable data structures)"
   ]
  },
  {
   "cell_type": "code",
   "execution_count": 1,
   "metadata": {},
   "outputs": [
    {
     "name": "stdout",
     "output_type": "stream",
     "text": [
      "outisde Bye\n",
      "inside Hello\n"
     ]
    }
   ],
   "source": [
    "def func(string):\n",
    "    string=\"Hello\"\n",
    "    print(\"inside\",string)\n",
    "string=\"Bye\"\n",
    "print(\"outisde\",string)\n",
    "func(string)\n"
   ]
  },
  {
   "cell_type": "markdown",
   "metadata": {},
   "source": [
    "# Call by Reference (for mutable data structures)"
   ]
  },
  {
   "cell_type": "code",
   "execution_count": 4,
   "metadata": {},
   "outputs": [
    {
     "name": "stdout",
     "output_type": "stream",
     "text": [
      "inside {65, 34, 11, 22, 31}\n",
      "outside {65, 34, 11, 22, 31}\n"
     ]
    }
   ],
   "source": [
    "def func(set):\n",
    "    set.add(34)\n",
    "    print(\"inside\",set)\n",
    "set={11,31,22,65}\n",
    "func(set)\n",
    "print(\"outside\",set)\n"
   ]
  },
  {
   "cell_type": "markdown",
   "metadata": {},
   "source": [
    "# Second largest number in a list"
   ]
  },
  {
   "cell_type": "code",
   "execution_count": 6,
   "metadata": {},
   "outputs": [
    {
     "name": "stdout",
     "output_type": "stream",
     "text": [
      "Second largest number in the list is: 6\n"
     ]
    }
   ],
   "source": [
    "l=[2,1,6,4,3,8]\n",
    "l.sort()\n",
    "print(\"Second largest number in the list is:\",l[-2])"
   ]
  },
  {
   "cell_type": "code",
   "execution_count": 1,
   "metadata": {},
   "outputs": [
    {
     "name": "stdout",
     "output_type": "stream",
     "text": [
      "Check\n"
     ]
    }
   ],
   "source": [
    "n=4\n",
    "if n*6 > n**2 or n%2==0:\n",
    "    print(\"Check\")"
   ]
  },
  {
   "cell_type": "code",
   "execution_count": 1,
   "metadata": {},
   "outputs": [
    {
     "name": "stdout",
     "output_type": "stream",
     "text": [
      "0\n",
      "2\n",
      "4\n",
      "6\n",
      "8\n"
     ]
    }
   ],
   "source": [
    "for sum in range(5):\n",
    "    sum+=sum\n",
    "    print(sum)"
   ]
  },
  {
   "cell_type": "code",
   "execution_count": 20,
   "metadata": {},
   "outputs": [
    {
     "name": "stdout",
     "output_type": "stream",
     "text": [
      "[1, 2, 3]\n",
      "[1, 2, 3, 4]\n",
      "[1, 1, 2, 2, 3, 3, 4]\n",
      "Median is 4th element of the array [1, 1, 2, 2, 3, 3, 4] which is 2\n"
     ]
    }
   ],
   "source": [
    "arr1 = [3,1,1,2]\n",
    "arr2 = [4,3,3,2,1]\n",
    "arr1.sort()\n",
    "arr2.sort()\n",
    "tarr1 = []\n",
    "tarr2 = []\n",
    "\n",
    "for i in arr1:\n",
    "    if i not in tarr1:\n",
    "        tarr1.append(i)\n",
    "for i in arr2:\n",
    "    if i not in tarr2:\n",
    "        tarr2.append(i)    \n",
    "\n",
    "print(tarr1)\n",
    "print(tarr2) \n",
    "\n",
    "tarr1.extend(tarr2)\n",
    "tarr1.sort()\n",
    "print(tarr1)\n",
    "\n",
    "median = 0\n",
    "\n",
    "if len(tarr1)%2==0:\n",
    "    median = (len(tarr1)//2)+((len(tarr1)//2)+1)//2\n",
    "else:\n",
    "    median = (len(tarr1)+1)//2   \n",
    "print(f'Median is {median}th element of the array {tarr1} which is {tarr1[median-1]}')        \n"
   ]
  },
  {
   "cell_type": "code",
   "execution_count": null,
   "metadata": {},
   "outputs": [],
   "source": []
  }
 ],
 "metadata": {
  "kernelspec": {
   "display_name": "base",
   "language": "python",
   "name": "python3"
  },
  "language_info": {
   "codemirror_mode": {
    "name": "ipython",
    "version": 3
   },
   "file_extension": ".py",
   "mimetype": "text/x-python",
   "name": "python",
   "nbconvert_exporter": "python",
   "pygments_lexer": "ipython3",
   "version": "3.10.9"
  },
  "orig_nbformat": 4
 },
 "nbformat": 4,
 "nbformat_minor": 2
}
