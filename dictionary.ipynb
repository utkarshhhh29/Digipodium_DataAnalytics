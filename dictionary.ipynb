{
 "cells": [
  {
   "cell_type": "code",
   "execution_count": 1,
   "metadata": {},
   "outputs": [
    {
     "name": "stdout",
     "output_type": "stream",
     "text": [
      "{'First name': 'Rohit', 'Second name': 'Sharma', 'Age': 36}\n"
     ]
    },
    {
     "data": {
      "text/plain": [
       "dict"
      ]
     },
     "execution_count": 1,
     "metadata": {},
     "output_type": "execute_result"
    }
   ],
   "source": [
    "person = {'First name':'Rohit', \n",
    "          'Second name':'Sharma',\n",
    "          'Age':36}\n",
    "print(person)\n",
    "type(person)"
   ]
  },
  {
   "cell_type": "code",
   "execution_count": 59,
   "metadata": {},
   "outputs": [
    {
     "name": "stdout",
     "output_type": "stream",
     "text": [
      "{'First name': 'Rohit', 'Second name': 'Sharma', 'Age': 36, 'Address': {'house no': 25, 'street': 'Goregaon', 'city': 'Mumbai'}}\n"
     ]
    },
    {
     "data": {
      "text/plain": [
       "dict"
      ]
     },
     "execution_count": 59,
     "metadata": {},
     "output_type": "execute_result"
    }
   ],
   "source": [
    "person = {'First name':'Rohit', \n",
    "          'Second name':'Sharma',\n",
    "          'Age':36,\n",
    "          'Address':{'house no':25,\n",
    "                     'street':'Goregaon',\n",
    "                     'city':'Mumbai'\n",
    "                     }\n",
    "          }\n",
    "print(person)\n",
    "type(person)"
   ]
  },
  {
   "cell_type": "code",
   "execution_count": 60,
   "metadata": {},
   "outputs": [
    {
     "name": "stdout",
     "output_type": "stream",
     "text": [
      "Rohit\n",
      "Sharma\n",
      "36\n",
      "{'house no': 25, 'street': 'Goregaon', 'city': 'Mumbai'}\n"
     ]
    }
   ],
   "source": [
    "print(person['First name'])\n",
    "print(person['Second name'])\n",
    "print(person['Age'])\n",
    "print(person['Address'])"
   ]
  },
  {
   "cell_type": "code",
   "execution_count": 61,
   "metadata": {},
   "outputs": [
    {
     "name": "stdout",
     "output_type": "stream",
     "text": [
      "Mumbai\n"
     ]
    }
   ],
   "source": [
    "print(person['Address']['city'])"
   ]
  },
  {
   "cell_type": "code",
   "execution_count": 62,
   "metadata": {},
   "outputs": [
    {
     "name": "stdout",
     "output_type": "stream",
     "text": [
      "Rohit\n",
      "None\n",
      "No middle name\n"
     ]
    }
   ],
   "source": [
    "print(person.get('First name'))\n",
    "print(person.get('Middle name'))\n",
    "print(person.get('Middle name','No middle name'))"
   ]
  },
  {
   "cell_type": "code",
   "execution_count": 63,
   "metadata": {},
   "outputs": [
    {
     "name": "stdout",
     "output_type": "stream",
     "text": [
      "Kumar\n"
     ]
    }
   ],
   "source": [
    "person['Middle name']='Kumar'\n",
    "print(person.get('Middle name','Not found'))"
   ]
  },
  {
   "cell_type": "code",
   "execution_count": 64,
   "metadata": {},
   "outputs": [
    {
     "name": "stdout",
     "output_type": "stream",
     "text": [
      "{'First name': 'Rohit', 'Second name': 'Sharma', 'Age': 36, 'Address': {'house no': 25, 'street': 'Goregaon', 'city': 'Mumbai', 'Pin code': '700212'}, 'Middle name': 'Kumar'}\n"
     ]
    }
   ],
   "source": [
    "person['Address']['Pin code']='700212'\n",
    "print(person)"
   ]
  },
  {
   "cell_type": "code",
   "execution_count": 65,
   "metadata": {},
   "outputs": [
    {
     "name": "stdout",
     "output_type": "stream",
     "text": [
      "Kumar\n",
      "Goregaon\n"
     ]
    }
   ],
   "source": [
    "\n",
    "print(person.pop('Middle name'))\n",
    "print(person['Address'].pop('street'))"
   ]
  },
  {
   "cell_type": "code",
   "execution_count": 28,
   "metadata": {},
   "outputs": [
    {
     "name": "stdout",
     "output_type": "stream",
     "text": [
      "dict_keys(['First name', 'Second name', 'Age'])\n",
      "dict_values(['Rohit', 'Sharma', 36])\n",
      "dict_items([('First name', 'Rohit'), ('Second name', 'Sharma'), ('Age', 36)])\n"
     ]
    }
   ],
   "source": [
    "print(person.keys())\n",
    "print(person.values())\n",
    "print(person.items())"
   ]
  },
  {
   "cell_type": "code",
   "execution_count": 29,
   "metadata": {},
   "outputs": [
    {
     "name": "stdout",
     "output_type": "stream",
     "text": [
      "First name\n",
      "Second name\n",
      "Age\n"
     ]
    }
   ],
   "source": [
    "for key in person:\n",
    "    print(key)"
   ]
  },
  {
   "cell_type": "code",
   "execution_count": 33,
   "metadata": {},
   "outputs": [
    {
     "name": "stdout",
     "output_type": "stream",
     "text": [
      "First name : Rohit\n",
      "Second name : Sharma\n",
      "Age : 36\n"
     ]
    }
   ],
   "source": [
    "for key,value in person.items():\n",
    "    print(key,\":\",value)"
   ]
  },
  {
   "cell_type": "markdown",
   "metadata": {},
   "source": [
    "Create a dictionary of 5 employees of account dept in a ACME company."
   ]
  },
  {
   "cell_type": "code",
   "execution_count": 66,
   "metadata": {},
   "outputs": [],
   "source": [
    "acme = {'account':{}}\n",
    "\n",
    "for i in range(1,6):\n",
    "    name = input('Enter name: ')\n",
    "    desig = input('Enter designation: ')\n",
    "    sal = int(input('Enter salary: '))\n",
    "    acme['account'][f'emp{i}'] = {\n",
    "        'name': name,\n",
    "        'designation': desig,\n",
    "        'salary': sal\n",
    "    }"
   ]
  },
  {
   "cell_type": "code",
   "execution_count": 67,
   "metadata": {},
   "outputs": [
    {
     "name": "stdout",
     "output_type": "stream",
     "text": [
      "{'account': {'emp1': {'name': 'Rohit', 'designation': 'Manager', 'salary': 85000}, 'emp2': {'name': 'Akshay', 'designation': 'Assistant', 'salary': 27000}, 'emp3': {'name': 'Paul', 'designation': 'Developer', 'salary': 45000}, 'emp4': {'name': 'Emma', 'designation': 'Asst Developer', 'salary': 37000}, 'emp5': {'name': 'Mohan', 'designation': 'Lab Assistant ', 'salary': 25000}}}\n"
     ]
    }
   ],
   "source": [
    "print(acme)"
   ]
  },
  {
   "cell_type": "code",
   "execution_count": 68,
   "metadata": {},
   "outputs": [],
   "source": [
    "from pprint import pp"
   ]
  },
  {
   "cell_type": "code",
   "execution_count": 69,
   "metadata": {},
   "outputs": [
    {
     "name": "stdout",
     "output_type": "stream",
     "text": [
      "{'account': {'emp1': {'name': 'Rohit',\n",
      "                      'designation': 'Manager',\n",
      "                      'salary': 85000},\n",
      "             'emp2': {'name': 'Akshay',\n",
      "                      'designation': 'Assistant',\n",
      "                      'salary': 27000},\n",
      "             'emp3': {'name': 'Paul',\n",
      "                      'designation': 'Developer',\n",
      "                      'salary': 45000},\n",
      "             'emp4': {'name': 'Emma',\n",
      "                      'designation': 'Asst Developer',\n",
      "                      'salary': 37000},\n",
      "             'emp5': {'name': 'Mohan',\n",
      "                      'designation': 'Lab Assistant ',\n",
      "                      'salary': 25000}}}\n"
     ]
    }
   ],
   "source": [
    "pp(acme)"
   ]
  },
  {
   "cell_type": "code",
   "execution_count": 82,
   "metadata": {},
   "outputs": [
    {
     "name": "stdout",
     "output_type": "stream",
     "text": [
      "Sum of salary: 219000\n"
     ]
    }
   ],
   "source": [
    "sum_of_salary = 0\n",
    "for s in acme['account']:\n",
    "    sum_of_salary+=acme['account'][s]['salary']\n",
    "print('Sum of salary:',sum_of_salary)"
   ]
  },
  {
   "cell_type": "markdown",
   "metadata": {},
   "source": [
    "Create a contact dictionary and let user check if contact exists, if yes then print the contact details, if no then ask the user to add values"
   ]
  },
  {
   "cell_type": "code",
   "execution_count": 87,
   "metadata": {},
   "outputs": [
    {
     "name": "stdout",
     "output_type": "stream",
     "text": [
      "Contact found\n",
      "Name: Police\n",
      "Number: 112\n",
      "Contact not found\n",
      "Add contact\n",
      "Contact added\n",
      "Contact found\n",
      "Name: Rohan\n",
      "Number: 4321\n"
     ]
    }
   ],
   "source": [
    "contacts = {'Police':'112'}\n",
    "while True:\n",
    "    contact_name=input('Enter contact name:')\n",
    "    if contact_name in contacts:\n",
    "        print('Contact found')\n",
    "        print('Name:',contact_name)\n",
    "        print('Number:',contacts[contact_name])\n",
    "    elif contact_name == 'exit':\n",
    "        break\n",
    "    else:\n",
    "        print('Contact not found')\n",
    "        print('Add contact')\n",
    "        contact_number = input('Enter contact number:')\n",
    "        contacts[contact_name]=contact_number\n",
    "        print('Contact added')\n",
    "        "
   ]
  },
  {
   "cell_type": "code",
   "execution_count": 84,
   "metadata": {},
   "outputs": [
    {
     "data": {
      "text/plain": [
       "str"
      ]
     },
     "execution_count": 84,
     "metadata": {},
     "output_type": "execute_result"
    }
   ],
   "source": [
    "type(contact_number)"
   ]
  },
  {
   "cell_type": "code",
   "execution_count": null,
   "metadata": {},
   "outputs": [],
   "source": []
  }
 ],
 "metadata": {
  "kernelspec": {
   "display_name": "base",
   "language": "python",
   "name": "python3"
  },
  "language_info": {
   "codemirror_mode": {
    "name": "ipython",
    "version": 3
   },
   "file_extension": ".py",
   "mimetype": "text/x-python",
   "name": "python",
   "nbconvert_exporter": "python",
   "pygments_lexer": "ipython3",
   "version": "3.10.9"
  },
  "orig_nbformat": 4
 },
 "nbformat": 4,
 "nbformat_minor": 2
}
