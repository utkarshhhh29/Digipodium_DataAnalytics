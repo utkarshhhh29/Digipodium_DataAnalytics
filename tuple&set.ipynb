{
 "cells": [
  {
   "cell_type": "markdown",
   "metadata": {},
   "source": [
    "# Tuple\n"
   ]
  },
  {
   "cell_type": "code",
   "execution_count": 1,
   "metadata": {},
   "outputs": [
    {
     "name": "stdout",
     "output_type": "stream",
     "text": [
      "(1, 2, 3)\n",
      "<class 'tuple'>\n"
     ]
    }
   ],
   "source": [
    "x = (1,2,3)\n",
    "print(x)\n",
    "print(type(x))"
   ]
  },
  {
   "cell_type": "code",
   "execution_count": 3,
   "metadata": {},
   "outputs": [
    {
     "name": "stdout",
     "output_type": "stream",
     "text": [
      "(1, 2, 3, 4, 5, 'Hello')\n",
      "<class 'tuple'>\n"
     ]
    }
   ],
   "source": [
    "y = 1,2,3,4,5,\"Hello\" #tuple packing\n",
    "print(y)\n",
    "print(type(y))"
   ]
  },
  {
   "cell_type": "code",
   "execution_count": 4,
   "metadata": {},
   "outputs": [
    {
     "name": "stdout",
     "output_type": "stream",
     "text": [
      "(1, 2, 3, 4)\n",
      "('h', 'e', 'l', 'l', 'o')\n"
     ]
    }
   ],
   "source": [
    "z = tuple([1,2,3,4]) #tuple from iterable\n",
    "zs = tuple('hello') #tuple from iterable\n",
    "print(z)\n",
    "print(zs)"
   ]
  },
  {
   "cell_type": "code",
   "execution_count": 7,
   "metadata": {},
   "outputs": [
    {
     "name": "stdout",
     "output_type": "stream",
     "text": [
      "0\n",
      "2\n"
     ]
    }
   ],
   "source": [
    "x = (1,2,4,5,6,3,2,5,7,7,4,3,1)\n",
    "print(x.index(1))\n",
    "print(x.count(7))"
   ]
  },
  {
   "cell_type": "code",
   "execution_count": 10,
   "metadata": {},
   "outputs": [
    {
     "name": "stdout",
     "output_type": "stream",
     "text": [
      "()\n",
      "<class 'tuple'>\n"
     ]
    }
   ],
   "source": [
    "x = ()\n",
    "print(x)\n",
    "print(type(x))"
   ]
  },
  {
   "cell_type": "code",
   "execution_count": 14,
   "metadata": {},
   "outputs": [
    {
     "name": "stdout",
     "output_type": "stream",
     "text": [
      "(1,)\n",
      "<class 'tuple'>\n"
     ]
    }
   ],
   "source": [
    "y = (1,) # a single element tuple needs a comma\n",
    "print(y)\n",
    "print(type(y))"
   ]
  },
  {
   "cell_type": "code",
   "execution_count": 23,
   "metadata": {},
   "outputs": [
    {
     "name": "stdout",
     "output_type": "stream",
     "text": [
      "(1, 2, 3, 4, 5)\n",
      "1\n",
      "2\n",
      "3\n",
      "4 5\n"
     ]
    }
   ],
   "source": [
    "x = (1,2,3,4,5)\n",
    "print(x)\n",
    "a,b,c,d,e = x #tuple unpacking\n",
    "print(a)\n",
    "print(b)\n",
    "print(c)\n",
    "print(d,e)\n",
    "\n",
    "# a,b = x  #too many values to unpack (expected 2)\n",
    "# a,b,c,d,e,f,g = x #not enough values to unpack (expected 6, got 5)"
   ]
  },
  {
   "cell_type": "code",
   "execution_count": 27,
   "metadata": {},
   "outputs": [
    {
     "name": "stdout",
     "output_type": "stream",
     "text": [
      "1 2 [3, 4, 5]\n",
      "1 [2, 3, 4, 5]\n",
      "1 [2, 3, 4] 5\n"
     ]
    }
   ],
   "source": [
    "a, b, *c = x #tuple unpacking\n",
    "print(a,b,c)\n",
    "a, *b = x\n",
    "print(a,b)\n",
    "a, *b, c = x\n",
    "print(a,b,c)"
   ]
  },
  {
   "cell_type": "markdown",
   "metadata": {},
   "source": [
    "# Set"
   ]
  },
  {
   "cell_type": "code",
   "execution_count": 29,
   "metadata": {},
   "outputs": [
    {
     "name": "stdout",
     "output_type": "stream",
     "text": [
      "{1, 2, 3, 4, 5, 6}\n",
      "<class 'set'>\n"
     ]
    }
   ],
   "source": [
    "a = {5,3,2,1,4,5,1,1,1,2,6}\n",
    "print(a)\n",
    "print(type(a))"
   ]
  },
  {
   "cell_type": "code",
   "execution_count": 30,
   "metadata": {},
   "outputs": [
    {
     "name": "stdout",
     "output_type": "stream",
     "text": [
      "{'apple', 'banana', 'mango', 'pear', 'orange'}\n"
     ]
    }
   ],
   "source": [
    "fruits = {'banana','apple','apple','mango','pear','orange','banana'}\n",
    "print(fruits)"
   ]
  },
  {
   "cell_type": "code",
   "execution_count": 34,
   "metadata": {},
   "outputs": [
    {
     "name": "stdout",
     "output_type": "stream",
     "text": [
      "{1, 3.14, 'hello'}\n",
      "<class 'set'>\n"
     ]
    }
   ],
   "source": [
    "x = {1,'hello',3.14}\n",
    "print(x)\n",
    "print(type(x))"
   ]
  },
  {
   "cell_type": "code",
   "execution_count": 35,
   "metadata": {},
   "outputs": [
    {
     "name": "stdout",
     "output_type": "stream",
     "text": [
      "{'apple', 'grape', 'banana', 'mango', 'pear', 'orange'}\n"
     ]
    }
   ],
   "source": [
    "fruits.add('grape')\n",
    "fruits.add('apple')\n",
    "print(fruits)"
   ]
  },
  {
   "cell_type": "code",
   "execution_count": 36,
   "metadata": {},
   "outputs": [
    {
     "name": "stdout",
     "output_type": "stream",
     "text": [
      "{'grape', 'banana', 'mango', 'pear', 'orange'}\n"
     ]
    }
   ],
   "source": [
    "fruits.discard('apple')\n",
    "fruits.discard('cherry')\n",
    "print(fruits)"
   ]
  },
  {
   "cell_type": "code",
   "execution_count": 38,
   "metadata": {},
   "outputs": [
    {
     "name": "stdout",
     "output_type": "stream",
     "text": [
      "{1, 2, 3, 4, 5, 6, 7}\n",
      "{1, 2, 3, 4, 5, 6, 7}\n",
      "{7}\n",
      "{7}\n"
     ]
    }
   ],
   "source": [
    "a = {1,2,5,4,3,2,1,7}\n",
    "b = {2,3,1,4,2,4,6}\n",
    "c = {6,7,8,9,10}\n",
    "d = {0,2,3,5,1,2}\n",
    "e = {1,2,3}\n",
    "\n",
    "#union\n",
    "print(a|b)\n",
    "print(a.union(b))\n",
    "\n",
    "#intersection\n",
    "print(a&c)\n",
    "print(a.intersection(c))\n"
   ]
  },
  {
   "cell_type": "code",
   "execution_count": 40,
   "metadata": {},
   "outputs": [
    {
     "name": "stdout",
     "output_type": "stream",
     "text": [
      "set()\n"
     ]
    }
   ],
   "source": [
    "print(c&e) #returns empty set if no common"
   ]
  },
  {
   "cell_type": "code",
   "execution_count": 41,
   "metadata": {},
   "outputs": [
    {
     "name": "stdout",
     "output_type": "stream",
     "text": [
      "{1, 2, 3, 4}\n",
      "{1, 2, 3, 4}\n"
     ]
    }
   ],
   "source": [
    "print(b-c) \n",
    "print(b.difference(c))"
   ]
  },
  {
   "cell_type": "code",
   "execution_count": 44,
   "metadata": {},
   "outputs": [
    {
     "name": "stdout",
     "output_type": "stream",
     "text": [
      "{4, 5, 7}\n",
      "{4, 5, 7}\n"
     ]
    }
   ],
   "source": [
    "print(a^e)\n",
    "print(a.symmetric_difference(e))\n"
   ]
  },
  {
   "cell_type": "code",
   "execution_count": 49,
   "metadata": {},
   "outputs": [
    {
     "name": "stdout",
     "output_type": "stream",
     "text": [
      "False\n",
      "True\n",
      "True\n",
      "False\n"
     ]
    }
   ],
   "source": [
    "print(a.issuperset(b))\n",
    "print(e.issubset(a))\n",
    "print(c.isdisjoint(e))\n",
    "print(e.isdisjoint(a))"
   ]
  },
  {
   "cell_type": "code",
   "execution_count": null,
   "metadata": {},
   "outputs": [],
   "source": []
  }
 ],
 "metadata": {
  "kernelspec": {
   "display_name": "base",
   "language": "python",
   "name": "python3"
  },
  "language_info": {
   "codemirror_mode": {
    "name": "ipython",
    "version": 3
   },
   "file_extension": ".py",
   "mimetype": "text/x-python",
   "name": "python",
   "nbconvert_exporter": "python",
   "pygments_lexer": "ipython3",
   "version": "3.10.9"
  },
  "orig_nbformat": 4
 },
 "nbformat": 4,
 "nbformat_minor": 2
}
