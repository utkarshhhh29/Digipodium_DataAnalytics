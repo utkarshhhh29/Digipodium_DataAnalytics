{
 "cells": [
  {
   "cell_type": "markdown",
   "metadata": {},
   "source": [
    "\n",
    "    - Predefined functions\n",
    "        - standard library functions\n",
    "        - library(module) functions\n",
    "            - preinstalled libaries\n",
    "            - 3rd party libraries\n",
    "                - install with pip\n",
    "                    - pip install <module>\n",
    "                    - pip show <module>\n",
    "                - install with conda\n",
    "                    - conda install <repo> <module>\n",
    "    - User-defined functions\n",
    "        - fuctions with names\n",
    "            - function without parameters and return value\n",
    "            - function with parameters\n",
    "                - required parameters\n",
    "                - default parameters\n",
    "                - named parameters\n",
    "                - variable arguments\n",
    "                - variable keyword arguments\n",
    "            - functions with return value\n",
    "            - functions with both parameters and return value\n",
    "                - generators\n",
    "        - functions without name\n",
    "            - lamba functions (anonymous functions)"
   ]
  },
  {
   "cell_type": "code",
   "execution_count": 2,
   "metadata": {},
   "outputs": [],
   "source": [
    "import os"
   ]
  },
  {
   "cell_type": "code",
   "execution_count": 3,
   "metadata": {},
   "outputs": [
    {
     "name": "stdout",
     "output_type": "stream",
     "text": [
      "\u001b[1;31mSignature:\u001b[0m \u001b[0mos\u001b[0m\u001b[1;33m.\u001b[0m\u001b[0mstat\u001b[0m\u001b[1;33m(\u001b[0m\u001b[0mpath\u001b[0m\u001b[1;33m,\u001b[0m \u001b[1;33m*\u001b[0m\u001b[1;33m,\u001b[0m \u001b[0mdir_fd\u001b[0m\u001b[1;33m=\u001b[0m\u001b[1;32mNone\u001b[0m\u001b[1;33m,\u001b[0m \u001b[0mfollow_symlinks\u001b[0m\u001b[1;33m=\u001b[0m\u001b[1;32mTrue\u001b[0m\u001b[1;33m)\u001b[0m\u001b[1;33m\u001b[0m\u001b[1;33m\u001b[0m\u001b[0m\n",
      "\u001b[1;31mDocstring:\u001b[0m\n",
      "Perform a stat system call on the given path.\n",
      "\n",
      "  path\n",
      "    Path to be examined; can be string, bytes, a path-like object or\n",
      "    open-file-descriptor int.\n",
      "  dir_fd\n",
      "    If not None, it should be a file descriptor open to a directory,\n",
      "    and path should be a relative string; path will then be relative to\n",
      "    that directory.\n",
      "  follow_symlinks\n",
      "    If False, and the last element of the path is a symbolic link,\n",
      "    stat will examine the symbolic link itself instead of the file\n",
      "    the link points to.\n",
      "\n",
      "dir_fd and follow_symlinks may not be implemented\n",
      "  on your platform.  If they are unavailable, using them will raise a\n",
      "  NotImplementedError.\n",
      "\n",
      "It's an error to use dir_fd or follow_symlinks when specifying path as\n",
      "  an open file descriptor.\n",
      "\u001b[1;31mType:\u001b[0m      builtin_function_or_method"
     ]
    }
   ],
   "source": [
    "os.stat?"
   ]
  },
  {
   "cell_type": "code",
   "execution_count": 4,
   "metadata": {},
   "outputs": [
    {
     "name": "stdout",
     "output_type": "stream",
     "text": [
      "Simple interest is 6.00\n"
     ]
    }
   ],
   "source": [
    "def si(p,r,t):\n",
    "    ans = p*r*t/100\n",
    "    print(f'Simple interest is {ans:.2f}')\n",
    "#calling\n",
    "si(100,2,3)"
   ]
  },
  {
   "cell_type": "code",
   "execution_count": 6,
   "metadata": {},
   "outputs": [
    {
     "name": "stdout",
     "output_type": "stream",
     "text": [
      "7 is an odd number\n",
      "10 is an even number\n",
      "37 is an odd number\n"
     ]
    }
   ],
   "source": [
    "def is_even(n):\n",
    "    if n%2==0:\n",
    "        print(f'{n} is an even number')\n",
    "    else:\n",
    "        print(f'{n} is an odd number')\n",
    "    \n",
    "#calling\n",
    "is_even(7)\n",
    "is_even(10)\n",
    "is_even(37)"
   ]
  },
  {
   "cell_type": "code",
   "execution_count": 11,
   "metadata": {},
   "outputs": [
    {
     "name": "stdout",
     "output_type": "stream",
     "text": [
      "4 is not a prime number\n",
      "7 is a prime number\n",
      "37 is a prime number\n",
      "8 is not a prime number\n"
     ]
    }
   ],
   "source": [
    "def is_prime(num):\n",
    "    for i in range(2,num):\n",
    "        if num%i == 0:\n",
    "            print(f'{num} is not a prime number')\n",
    "            break   \n",
    "    else:\n",
    "        print(f'{num} is a prime number')\n",
    "is_prime(4)\n",
    "is_prime(7)\n",
    "is_prime(37)\n",
    "is_prime(8)"
   ]
  },
  {
   "cell_type": "code",
   "execution_count": 2,
   "metadata": {},
   "outputs": [
    {
     "name": "stdout",
     "output_type": "stream",
     "text": [
      "26.0\n",
      "26.0\n",
      "104.0\n",
      "50.0\n",
      "26.0\n",
      "50.0\n",
      "26.0\n",
      "26.0\n",
      "26.0\n"
     ]
    }
   ],
   "source": [
    "def hypotneuse(p=3,b=2):\n",
    "    hypotneuse = (p**2+b**2)/0.5\n",
    "    print(hypotneuse)\n",
    "hypotneuse()    \n",
    "hypotneuse(3,2) #positional arguments\n",
    "hypotneuse(4,6)\n",
    "hypotneuse(p=4,b=3) #named arguments\n",
    "hypotneuse(b=2,p=3)\n",
    "hypotneuse(4,b=3)\n",
    "\n",
    "x = int(input(\"Enter Perpendicular: \"))\n",
    "y = int((input(\"Enter Base: \")))\n",
    "hypotneuse(x,y)\n",
    "hypotneuse(p=x,b=y)\n",
    "hypotneuse(p=y,b=x)\n"
   ]
  },
  {
   "cell_type": "markdown",
   "metadata": {},
   "source": [
    "variable arguments \n",
    "    def func(*)"
   ]
  },
  {
   "cell_type": "code",
   "execution_count": 6,
   "metadata": {},
   "outputs": [
    {
     "name": "stdout",
     "output_type": "stream",
     "text": [
      "1\n",
      "2\n",
      "6\n",
      "6\n"
     ]
    }
   ],
   "source": [
    "def multiplier(*num):\n",
    "    product=1\n",
    "    for i in num:\n",
    "        product=i*product\n",
    "    print(product)\n",
    "multiplier()\n",
    "multiplier(2)\n",
    "multiplier(2,3)\n",
    "multiplier(2,3,1)\n",
    "    "
   ]
  },
  {
   "cell_type": "markdown",
   "metadata": {},
   "source": [
    "variable keyword arguments"
   ]
  },
  {
   "cell_type": "code",
   "execution_count": 15,
   "metadata": {},
   "outputs": [
    {
     "name": "stdout",
     "output_type": "stream",
     "text": [
      "15\n",
      "12\n",
      "0.00390625\n",
      "Invalid operator\n",
      "Invalid operator\n"
     ]
    }
   ],
   "source": [
    "def agg(*num,operator):\n",
    "    if operator == 'add':\n",
    "        ans=0\n",
    "        for i in num:\n",
    "            ans+=i\n",
    "        print(ans)\n",
    "    elif operator == 'mul':\n",
    "        ans=1\n",
    "        for i in num:\n",
    "            ans*=i\n",
    "        print(ans)\n",
    "    elif operator == 'avg':\n",
    "        ans=1\n",
    "        for i in num:\n",
    "            ans=ans/len(num)\n",
    "        print(ans)\n",
    "    else:\n",
    "        print('Invalid operator')\n",
    "\n",
    "agg(12,2,1,operator='add')\n",
    "agg(4,3,operator=\"mul\")\n",
    "agg(4,5,3,1,operator='avg')\n",
    "agg(operator='')\n",
    "agg(1,3,operator=\"subtraction\")"
   ]
  },
  {
   "cell_type": "code",
   "execution_count": null,
   "metadata": {},
   "outputs": [],
   "source": []
  }
 ],
 "metadata": {
  "kernelspec": {
   "display_name": "base",
   "language": "python",
   "name": "python3"
  },
  "language_info": {
   "codemirror_mode": {
    "name": "ipython",
    "version": 3
   },
   "file_extension": ".py",
   "mimetype": "text/x-python",
   "name": "python",
   "nbconvert_exporter": "python",
   "pygments_lexer": "ipython3",
   "version": "3.10.9"
  },
  "orig_nbformat": 4
 },
 "nbformat": 4,
 "nbformat_minor": 2
}
