{
 "cells": [
  {
   "cell_type": "code",
   "execution_count": 8,
   "metadata": {},
   "outputs": [],
   "source": [
    "emp= []\n",
    "x = [1,2,3,4]\n",
    "y = ['abc',1,2,3,\"hello\"]\n",
    "z = [[123],[456],[7],[8,9]]\n",
    "a = [10]*5\n",
    "\n",
    "a.append(20)\n"
   ]
  },
  {
   "cell_type": "code",
   "execution_count": 12,
   "metadata": {},
   "outputs": [
    {
     "name": "stdout",
     "output_type": "stream",
     "text": [
      "[10, 20, 30, 40, 60]\n",
      "10\n",
      "20\n",
      "60\n",
      "[10, 20]\n",
      "[40, 60]\n",
      "[60, 40, 30, 20, 10]\n"
     ]
    }
   ],
   "source": [
    "x = [10,20,30,40]\n",
    "x.append(60)\n",
    "print(x)\n",
    "print(x[0])\n",
    "print(x[1])\n",
    "print(x[-1])\n",
    "print(x[:2])\n",
    "print(x[3:])\n",
    "print(x[::-1])"
   ]
  },
  {
   "cell_type": "code",
   "execution_count": 14,
   "metadata": {},
   "outputs": [
    {
     "name": "stdout",
     "output_type": "stream",
     "text": [
      "10\n",
      "20\n",
      "30\n",
      "40\n",
      "60\n"
     ]
    }
   ],
   "source": [
    "for i in x:\n",
    "    print(i)"
   ]
  },
  {
   "cell_type": "markdown",
   "metadata": {},
   "source": [
    "## 11 functions in a list\n",
    "\n",
    "# adding: \n",
    "    append() - add single item to the end\n",
    "    insert() - insert single item at given index\n",
    "    extend() - merge an list to an exisitng list\n",
    "\n",
    "# remove\n",
    "    remove() - remove single item by value\n",
    "    pop() - remove single item by index\n",
    "    clear() - remove all items\n",
    "\n",
    "# utility\n",
    "    index() - find index of item by value\n",
    "    count() - count repeated items\n",
    "    sort() - sort items\n",
    "    reverse() - reverse items\n",
    "    copy() - copy list"
   ]
  },
  {
   "cell_type": "code",
   "execution_count": 3,
   "metadata": {},
   "outputs": [
    {
     "data": {
      "text/plain": [
       "['Oliver Twist', 'Invisible Man']"
      ]
     },
     "execution_count": 3,
     "metadata": {},
     "output_type": "execute_result"
    }
   ],
   "source": [
    "books = []\n",
    "books.append('Oliver Twist')\n",
    "books.append('Invisible Man')\n",
    "books"
   ]
  },
  {
   "cell_type": "code",
   "execution_count": 6,
   "metadata": {},
   "outputs": [
    {
     "data": {
      "text/plain": [
       "['Oliver Twist', 'Great Expectations', 'Invisible Man']"
      ]
     },
     "execution_count": 6,
     "metadata": {},
     "output_type": "execute_result"
    }
   ],
   "source": [
    "books.insert(1,'Great Expectations')\n",
    "books"
   ]
  },
  {
   "cell_type": "code",
   "execution_count": 7,
   "metadata": {},
   "outputs": [
    {
     "data": {
      "text/plain": [
       "['Oliver Twist', 'Python for Everyone', 'Invisible Man']"
      ]
     },
     "execution_count": 7,
     "metadata": {},
     "output_type": "execute_result"
    }
   ],
   "source": [
    "books[1] = 'Python for Everyone'\n",
    "books"
   ]
  },
  {
   "cell_type": "code",
   "execution_count": 11,
   "metadata": {},
   "outputs": [
    {
     "data": {
      "text/plain": [
       "['Oliver Twist',\n",
       " 'Python for Everyone',\n",
       " 'Invisible Man',\n",
       " 'Java for Everyone',\n",
       " 'Lets C',\n",
       " 'Java for Everyone',\n",
       " 'Lets C',\n",
       " 'Java for Everyone',\n",
       " 'Lets C',\n",
       " 'Java for Everyone',\n",
       " 'Lets C']"
      ]
     },
     "execution_count": 11,
     "metadata": {},
     "output_type": "execute_result"
    }
   ],
   "source": [
    "books2 = ['Java for Everyone','Lets C']\n",
    "books.extend(books2)\n",
    "books"
   ]
  },
  {
   "cell_type": "code",
   "execution_count": 12,
   "metadata": {},
   "outputs": [
    {
     "data": {
      "text/plain": [
       "'Lets C'"
      ]
     },
     "execution_count": 12,
     "metadata": {},
     "output_type": "execute_result"
    }
   ],
   "source": [
    "books.pop(4)"
   ]
  },
  {
   "cell_type": "code",
   "execution_count": 14,
   "metadata": {},
   "outputs": [
    {
     "data": {
      "text/plain": [
       "['Oliver Twist',\n",
       " 'Python for Everyone',\n",
       " 'Invisible Man',\n",
       " 'Java for Everyone',\n",
       " 'Java for Everyone',\n",
       " 'Java for Everyone',\n",
       " 'Java for Everyone',\n",
       " 'Lets C']"
      ]
     },
     "execution_count": 14,
     "metadata": {},
     "output_type": "execute_result"
    }
   ],
   "source": [
    "books.remove('Lets C') #removes only the first occurance\n",
    "books"
   ]
  },
  {
   "cell_type": "code",
   "execution_count": 18,
   "metadata": {},
   "outputs": [],
   "source": [
    "movies = [\n",
    "    'The Shawshank Redemption (1994)',\n",
    "    'The Godfather (1972)',\n",
    "    'The Godfather, Part II (1974)',\n",
    "    'The Dark Knight (2009)',\n",
    "    '12 Angry Men (1957)',\n",
    "    'Schindler\\'s List (1993)',\n",
    "    'The Lord of the Rings: The Return of the King (2003)',\n",
    "    'Pulp Fiction (1994)',\n",
    "    'The Good, the Bad, and the Ugly (1966) (It.)',\n",
    "    'The Lord of the Rings: The Fellowship of the Ring (2001)',\n",
    "    'Fight Club (1999)',\n",
    "    'Forrest Gump (1994)',\n",
    "    'Inception (2010)',\n",
    "    'The Lord of the Rings: The Two Towers (2002)',\n",
    "    'Star Wars: Episode V: The Empire Strikes Back (1980)',\n",
    "    'The Matrix (1999)',\n",
    "    'GoodFellas (1990)',\n",
    "    'One Flew Over The Cuckoo\\'s Nest (1975)',\n",
    "    'The Seven Samurai (1954) (Jp.)',\n",
    "    'Se7en (1995)',\n",
    "    'Life is Beautiful (1997) (It.)',\n",
    "    'City of God (2002, Brazil/Fr.)',\n",
    "    'The Silence of the Lambs (1991)',\n",
    "    'It\\'s A Wonderful Life (1946)',\n",
    "    'Star Wars (1977)',\n",
    "    'Saving Private Ryan (1998)',\n",
    "    'Spirited Away (2001, Jp.)',\n",
    "    'The Green Mile (1999)',\n",
    "    'Interstellar (2014)',\n",
    "    'Parasite (2019)',\n",
    "    'Leon, aka The Professional (1994) (Fr.)',\n",
    "    'The Usual Suspects (1995)',\n",
    "    'Harakiri (1962)',\n",
    "    'The Lion King (1994)',\n",
    "    'Back to the Future (1985)',\n",
    "    'The Pianist (2002)',\n",
    "    'Terminator 2: Judgment Day (1991)',\n",
    "    'American History X (1998)',\n",
    "    'Modern Times (1936)',\n",
    "    'Psycho (1960)',\n",
    "    'Gladiator (2000)',\n",
    "    'City Lights (1931)',\n",
    "    'The Departed (2006)',\n",
    "    'The Intouchables (2011)',\n",
    "    'Whiplash (2014)',\n",
    "    'The Prestige (2006)',\n",
    "    'Grave of the Fireflies (1988, Jp.)',\n",
    "    'Hamilton (2020)',\n",
    "    'Once Upon a Time in the West (1969) (It.)',\n",
    "    'Casablanca (1942)',\n",
    "    'Cinema Paradiso (1988)',\n",
    "    'Rear Window (1954)',\n",
    "    'Alien (1979)',\n",
    "    'Apocalypse Now (1979)',\n",
    "    'Memento (2000)',\n",
    "    'The Great Dictator (1940)',\n",
    "    'Raiders of the Lost Ark (1981)',\n",
    "    'Django Unchained (2012)',\n",
    "    'The Lives of Others (2006, Germ.)',\n",
    "    'Joker (2019)',\n",
    "    'Paths of Glory (1957)',\n",
    "    'WALL-E (2008)',\n",
    "    'The Shining (1980)',\n",
    "    'Avengers: Infinity War (2018)',\n",
    "    'Sunset Boulevard (1950)',\n",
    "    'Witness For the Prosecution (1957)',\n",
    "    'Spider-Man: Into the Spider-Verse (2018)',\n",
    "    'Oldboy (2003, S.Kor.)',\n",
    "    'Princess Mononoke (1997, Jp.)',\n",
    "    'Dr. Strangelove or: How I Learned To Stop Worrying and Love the Bomb (1964)',\n",
    "    'The Dark Knight Rises (2012)',\n",
    "    'Once Upon a Time in America (1984)',\n",
    "    'Aliens (1986)',\n",
    "    'Your Name. (2016)',\n",
    "    'Avengers: Endgame (2019)',\n",
    "    'Coco (2017)',\n",
    "    'American Beauty (1999)',\n",
    "    'Braveheart (1995)',\n",
    "    'Das Boot (1981) (Ger.)',\n",
    "    '3 Idiots (2009, India)',\n",
    "    'Toy Story (1995)',\n",
    "    'High and Low (1963, Jp.)',\n",
    "    'Capernaum (2018, Leb.)',\n",
    "    'Amadeus (1984)',\n",
    "    'Inglourious Basterds (2009)',\n",
    "    'Star Wars: Episode VI - Return of the Jedi (1983)',\n",
    "    'Like Stars on Earth (2007, India)',\n",
    "    'Good Will Hunting (1997)',\n",
    "    'Reservoir Dogs (1992)',\n",
    "    '2001: A Space Odyssey (1968)',\n",
    "    'Requiem for a Dream (2000)',\n",
    "    'Vertigo (1958)',\n",
    "    'M (1931) (Ger.)',\n",
    "    'Eternal Sunshine of the Spotless Mind (2004)',\n",
    "    'The Hunt (2012, Denm/Swe.)',\n",
    "    'Dangal (2016, India)',\n",
    "    'Citizen Kane (1941)',\n",
    "    '1917 (2019)',\n",
    "    'Full Metal Jacket (1987)',\n",
    "    'The Bicycle Thief (1948, It.)']"
   ]
  },
  {
   "cell_type": "code",
   "execution_count": 19,
   "metadata": {},
   "outputs": [
    {
     "data": {
      "text/plain": [
       "['The Shawshank Redemption (1994)',\n",
       " 'The Godfather (1972)',\n",
       " 'The Godfather, Part II (1974)',\n",
       " 'The Dark Knight (2009)',\n",
       " '12 Angry Men (1957)',\n",
       " \"Schindler's List (1993)\",\n",
       " 'The Lord of the Rings: The Return of the King (2003)',\n",
       " 'Pulp Fiction (1994)',\n",
       " 'The Good, the Bad, and the Ugly (1966) (It.)',\n",
       " 'The Lord of the Rings: The Fellowship of the Ring (2001)',\n",
       " 'Fight Club (1999)',\n",
       " 'Forrest Gump (1994)',\n",
       " 'Inception (2010)',\n",
       " 'The Lord of the Rings: The Two Towers (2002)',\n",
       " 'Star Wars: Episode V: The Empire Strikes Back (1980)',\n",
       " 'The Matrix (1999)',\n",
       " 'GoodFellas (1990)',\n",
       " \"One Flew Over The Cuckoo's Nest (1975)\",\n",
       " 'The Seven Samurai (1954) (Jp.)',\n",
       " 'Se7en (1995)',\n",
       " 'Life is Beautiful (1997) (It.)',\n",
       " 'City of God (2002, Brazil/Fr.)',\n",
       " 'The Silence of the Lambs (1991)',\n",
       " \"It's A Wonderful Life (1946)\",\n",
       " 'Star Wars (1977)',\n",
       " 'Saving Private Ryan (1998)',\n",
       " 'Spirited Away (2001, Jp.)',\n",
       " 'The Green Mile (1999)',\n",
       " 'Interstellar (2014)',\n",
       " 'Parasite (2019)',\n",
       " 'Leon, aka The Professional (1994) (Fr.)',\n",
       " 'The Usual Suspects (1995)',\n",
       " 'Harakiri (1962)',\n",
       " 'The Lion King (1994)',\n",
       " 'Back to the Future (1985)',\n",
       " 'The Pianist (2002)',\n",
       " 'Terminator 2: Judgment Day (1991)',\n",
       " 'American History X (1998)',\n",
       " 'Modern Times (1936)',\n",
       " 'Psycho (1960)',\n",
       " 'Gladiator (2000)',\n",
       " 'City Lights (1931)',\n",
       " 'The Departed (2006)',\n",
       " 'The Intouchables (2011)',\n",
       " 'Whiplash (2014)',\n",
       " 'The Prestige (2006)',\n",
       " 'Grave of the Fireflies (1988, Jp.)',\n",
       " 'Hamilton (2020)',\n",
       " 'Once Upon a Time in the West (1969) (It.)',\n",
       " 'Casablanca (1942)',\n",
       " 'Cinema Paradiso (1988)',\n",
       " 'Rear Window (1954)',\n",
       " 'Alien (1979)',\n",
       " 'Apocalypse Now (1979)',\n",
       " 'Memento (2000)',\n",
       " 'The Great Dictator (1940)',\n",
       " 'Raiders of the Lost Ark (1981)',\n",
       " 'Django Unchained (2012)',\n",
       " 'The Lives of Others (2006, Germ.)',\n",
       " 'Joker (2019)',\n",
       " 'Paths of Glory (1957)',\n",
       " 'WALL-E (2008)',\n",
       " 'The Shining (1980)',\n",
       " 'Avengers: Infinity War (2018)',\n",
       " 'Sunset Boulevard (1950)',\n",
       " 'Witness For the Prosecution (1957)',\n",
       " 'Spider-Man: Into the Spider-Verse (2018)',\n",
       " 'Oldboy (2003, S.Kor.)',\n",
       " 'Princess Mononoke (1997, Jp.)',\n",
       " 'Dr. Strangelove or: How I Learned To Stop Worrying and Love the Bomb (1964)',\n",
       " 'The Dark Knight Rises (2012)',\n",
       " 'Once Upon a Time in America (1984)',\n",
       " 'Aliens (1986)',\n",
       " 'Your Name. (2016)',\n",
       " 'Avengers: Endgame (2019)',\n",
       " 'Coco (2017)',\n",
       " 'American Beauty (1999)',\n",
       " 'Braveheart (1995)',\n",
       " 'Das Boot (1981) (Ger.)',\n",
       " '3 Idiots (2009, India)',\n",
       " 'Toy Story (1995)',\n",
       " 'High and Low (1963, Jp.)',\n",
       " 'Capernaum (2018, Leb.)',\n",
       " 'Amadeus (1984)',\n",
       " 'Inglourious Basterds (2009)',\n",
       " 'Star Wars: Episode VI - Return of the Jedi (1983)',\n",
       " 'Like Stars on Earth (2007, India)',\n",
       " 'Good Will Hunting (1997)',\n",
       " 'Reservoir Dogs (1992)',\n",
       " '2001: A Space Odyssey (1968)',\n",
       " 'Requiem for a Dream (2000)',\n",
       " 'Vertigo (1958)',\n",
       " 'M (1931) (Ger.)',\n",
       " 'Eternal Sunshine of the Spotless Mind (2004)',\n",
       " 'The Hunt (2012, Denm/Swe.)',\n",
       " 'Dangal (2016, India)',\n",
       " 'Citizen Kane (1941)',\n",
       " '1917 (2019)',\n",
       " 'Full Metal Jacket (1987)',\n",
       " 'The Bicycle Thief (1948, It.)']"
      ]
     },
     "execution_count": 19,
     "metadata": {},
     "output_type": "execute_result"
    }
   ],
   "source": [
    "movies"
   ]
  },
  {
   "cell_type": "code",
   "execution_count": 22,
   "metadata": {},
   "outputs": [
    {
     "data": {
      "text/plain": [
       "['The Bicycle Thief (1948, It.)',\n",
       " 'Full Metal Jacket (1987)',\n",
       " '1917 (2019)',\n",
       " 'Citizen Kane (1941)',\n",
       " 'Dangal (2016, India)',\n",
       " 'The Hunt (2012, Denm/Swe.)',\n",
       " 'Eternal Sunshine of the Spotless Mind (2004)',\n",
       " 'M (1931) (Ger.)',\n",
       " 'Vertigo (1958)',\n",
       " 'Requiem for a Dream (2000)',\n",
       " '2001: A Space Odyssey (1968)',\n",
       " 'Reservoir Dogs (1992)',\n",
       " 'Good Will Hunting (1997)',\n",
       " 'Like Stars on Earth (2007, India)',\n",
       " 'Star Wars: Episode VI - Return of the Jedi (1983)',\n",
       " 'Inglourious Basterds (2009)',\n",
       " 'Amadeus (1984)',\n",
       " 'Capernaum (2018, Leb.)',\n",
       " 'High and Low (1963, Jp.)',\n",
       " 'Toy Story (1995)',\n",
       " '3 Idiots (2009, India)',\n",
       " 'Das Boot (1981) (Ger.)',\n",
       " 'Braveheart (1995)',\n",
       " 'American Beauty (1999)',\n",
       " 'Coco (2017)',\n",
       " 'Avengers: Endgame (2019)',\n",
       " 'Your Name. (2016)',\n",
       " 'Aliens (1986)',\n",
       " 'Once Upon a Time in America (1984)',\n",
       " 'The Dark Knight Rises (2012)',\n",
       " 'Dr. Strangelove or: How I Learned To Stop Worrying and Love the Bomb (1964)',\n",
       " 'Princess Mononoke (1997, Jp.)',\n",
       " 'Oldboy (2003, S.Kor.)',\n",
       " 'Spider-Man: Into the Spider-Verse (2018)',\n",
       " 'Witness For the Prosecution (1957)',\n",
       " 'Sunset Boulevard (1950)',\n",
       " 'Avengers: Infinity War (2018)',\n",
       " 'The Shining (1980)',\n",
       " 'WALL-E (2008)',\n",
       " 'Paths of Glory (1957)',\n",
       " 'Joker (2019)',\n",
       " 'The Lives of Others (2006, Germ.)',\n",
       " 'Django Unchained (2012)',\n",
       " 'Raiders of the Lost Ark (1981)',\n",
       " 'The Great Dictator (1940)',\n",
       " 'Memento (2000)',\n",
       " 'Apocalypse Now (1979)',\n",
       " 'Alien (1979)',\n",
       " 'Rear Window (1954)',\n",
       " 'Cinema Paradiso (1988)',\n",
       " 'Casablanca (1942)',\n",
       " 'Once Upon a Time in the West (1969) (It.)',\n",
       " 'Hamilton (2020)',\n",
       " 'Grave of the Fireflies (1988, Jp.)',\n",
       " 'The Prestige (2006)',\n",
       " 'Whiplash (2014)',\n",
       " 'The Intouchables (2011)',\n",
       " 'The Departed (2006)',\n",
       " 'City Lights (1931)',\n",
       " 'Gladiator (2000)',\n",
       " 'Psycho (1960)',\n",
       " 'Modern Times (1936)',\n",
       " 'American History X (1998)',\n",
       " 'Terminator 2: Judgment Day (1991)',\n",
       " 'The Pianist (2002)',\n",
       " 'Back to the Future (1985)',\n",
       " 'The Lion King (1994)',\n",
       " 'Harakiri (1962)',\n",
       " 'The Usual Suspects (1995)',\n",
       " 'Leon, aka The Professional (1994) (Fr.)',\n",
       " 'Parasite (2019)',\n",
       " 'Interstellar (2014)',\n",
       " 'The Green Mile (1999)',\n",
       " 'Spirited Away (2001, Jp.)',\n",
       " 'Saving Private Ryan (1998)',\n",
       " 'Star Wars (1977)',\n",
       " \"It's A Wonderful Life (1946)\",\n",
       " 'The Silence of the Lambs (1991)',\n",
       " 'City of God (2002, Brazil/Fr.)',\n",
       " 'Life is Beautiful (1997) (It.)',\n",
       " 'Se7en (1995)',\n",
       " 'The Seven Samurai (1954) (Jp.)',\n",
       " \"One Flew Over The Cuckoo's Nest (1975)\",\n",
       " 'GoodFellas (1990)',\n",
       " 'The Matrix (1999)',\n",
       " 'Star Wars: Episode V: The Empire Strikes Back (1980)',\n",
       " 'The Lord of the Rings: The Two Towers (2002)',\n",
       " 'Inception (2010)',\n",
       " 'Forrest Gump (1994)',\n",
       " 'Fight Club (1999)',\n",
       " 'The Lord of the Rings: The Fellowship of the Ring (2001)',\n",
       " 'The Good, the Bad, and the Ugly (1966) (It.)',\n",
       " 'Pulp Fiction (1994)',\n",
       " 'The Lord of the Rings: The Return of the King (2003)',\n",
       " \"Schindler's List (1993)\",\n",
       " '12 Angry Men (1957)',\n",
       " 'The Dark Knight (2009)',\n",
       " 'The Godfather, Part II (1974)',\n",
       " 'The Godfather (1972)',\n",
       " 'The Shawshank Redemption (1994)']"
      ]
     },
     "execution_count": 22,
     "metadata": {},
     "output_type": "execute_result"
    }
   ],
   "source": [
    "movies.reverse()\n",
    "movies"
   ]
  },
  {
   "cell_type": "code",
   "execution_count": 23,
   "metadata": {},
   "outputs": [
    {
     "data": {
      "text/plain": [
       "['12 Angry Men (1957)',\n",
       " '1917 (2019)',\n",
       " '2001: A Space Odyssey (1968)',\n",
       " '3 Idiots (2009, India)',\n",
       " 'Alien (1979)',\n",
       " 'Aliens (1986)',\n",
       " 'Amadeus (1984)',\n",
       " 'American Beauty (1999)',\n",
       " 'American History X (1998)',\n",
       " 'Apocalypse Now (1979)',\n",
       " 'Avengers: Endgame (2019)',\n",
       " 'Avengers: Infinity War (2018)',\n",
       " 'Back to the Future (1985)',\n",
       " 'Braveheart (1995)',\n",
       " 'Capernaum (2018, Leb.)',\n",
       " 'Casablanca (1942)',\n",
       " 'Cinema Paradiso (1988)',\n",
       " 'Citizen Kane (1941)',\n",
       " 'City Lights (1931)',\n",
       " 'City of God (2002, Brazil/Fr.)',\n",
       " 'Coco (2017)',\n",
       " 'Dangal (2016, India)',\n",
       " 'Das Boot (1981) (Ger.)',\n",
       " 'Django Unchained (2012)',\n",
       " 'Dr. Strangelove or: How I Learned To Stop Worrying and Love the Bomb (1964)',\n",
       " 'Eternal Sunshine of the Spotless Mind (2004)',\n",
       " 'Fight Club (1999)',\n",
       " 'Forrest Gump (1994)',\n",
       " 'Full Metal Jacket (1987)',\n",
       " 'Gladiator (2000)',\n",
       " 'Good Will Hunting (1997)',\n",
       " 'GoodFellas (1990)',\n",
       " 'Grave of the Fireflies (1988, Jp.)',\n",
       " 'Hamilton (2020)',\n",
       " 'Harakiri (1962)',\n",
       " 'High and Low (1963, Jp.)',\n",
       " 'Inception (2010)',\n",
       " 'Inglourious Basterds (2009)',\n",
       " 'Interstellar (2014)',\n",
       " \"It's A Wonderful Life (1946)\",\n",
       " 'Joker (2019)',\n",
       " 'Leon, aka The Professional (1994) (Fr.)',\n",
       " 'Life is Beautiful (1997) (It.)',\n",
       " 'Like Stars on Earth (2007, India)',\n",
       " 'M (1931) (Ger.)',\n",
       " 'Memento (2000)',\n",
       " 'Modern Times (1936)',\n",
       " 'Oldboy (2003, S.Kor.)',\n",
       " 'Once Upon a Time in America (1984)',\n",
       " 'Once Upon a Time in the West (1969) (It.)',\n",
       " \"One Flew Over The Cuckoo's Nest (1975)\",\n",
       " 'Parasite (2019)',\n",
       " 'Paths of Glory (1957)',\n",
       " 'Princess Mononoke (1997, Jp.)',\n",
       " 'Psycho (1960)',\n",
       " 'Pulp Fiction (1994)',\n",
       " 'Raiders of the Lost Ark (1981)',\n",
       " 'Rear Window (1954)',\n",
       " 'Requiem for a Dream (2000)',\n",
       " 'Reservoir Dogs (1992)',\n",
       " 'Saving Private Ryan (1998)',\n",
       " \"Schindler's List (1993)\",\n",
       " 'Se7en (1995)',\n",
       " 'Spider-Man: Into the Spider-Verse (2018)',\n",
       " 'Spirited Away (2001, Jp.)',\n",
       " 'Star Wars (1977)',\n",
       " 'Star Wars: Episode V: The Empire Strikes Back (1980)',\n",
       " 'Star Wars: Episode VI - Return of the Jedi (1983)',\n",
       " 'Sunset Boulevard (1950)',\n",
       " 'Terminator 2: Judgment Day (1991)',\n",
       " 'The Bicycle Thief (1948, It.)',\n",
       " 'The Dark Knight (2009)',\n",
       " 'The Dark Knight Rises (2012)',\n",
       " 'The Departed (2006)',\n",
       " 'The Godfather (1972)',\n",
       " 'The Godfather, Part II (1974)',\n",
       " 'The Good, the Bad, and the Ugly (1966) (It.)',\n",
       " 'The Great Dictator (1940)',\n",
       " 'The Green Mile (1999)',\n",
       " 'The Hunt (2012, Denm/Swe.)',\n",
       " 'The Intouchables (2011)',\n",
       " 'The Lion King (1994)',\n",
       " 'The Lives of Others (2006, Germ.)',\n",
       " 'The Lord of the Rings: The Fellowship of the Ring (2001)',\n",
       " 'The Lord of the Rings: The Return of the King (2003)',\n",
       " 'The Lord of the Rings: The Two Towers (2002)',\n",
       " 'The Matrix (1999)',\n",
       " 'The Pianist (2002)',\n",
       " 'The Prestige (2006)',\n",
       " 'The Seven Samurai (1954) (Jp.)',\n",
       " 'The Shawshank Redemption (1994)',\n",
       " 'The Shining (1980)',\n",
       " 'The Silence of the Lambs (1991)',\n",
       " 'The Usual Suspects (1995)',\n",
       " 'Toy Story (1995)',\n",
       " 'Vertigo (1958)',\n",
       " 'WALL-E (2008)',\n",
       " 'Whiplash (2014)',\n",
       " 'Witness For the Prosecution (1957)',\n",
       " 'Your Name. (2016)']"
      ]
     },
     "execution_count": 23,
     "metadata": {},
     "output_type": "execute_result"
    }
   ],
   "source": [
    "movies.sort()\n",
    "movies"
   ]
  },
  {
   "cell_type": "code",
   "execution_count": 25,
   "metadata": {},
   "outputs": [
    {
     "data": {
      "text/plain": [
       "['Your Name. (2016)',\n",
       " 'Witness For the Prosecution (1957)',\n",
       " 'Whiplash (2014)',\n",
       " 'WALL-E (2008)',\n",
       " 'Vertigo (1958)',\n",
       " 'Toy Story (1995)',\n",
       " 'The Usual Suspects (1995)',\n",
       " 'The Silence of the Lambs (1991)',\n",
       " 'The Shining (1980)',\n",
       " 'The Shawshank Redemption (1994)',\n",
       " 'The Seven Samurai (1954) (Jp.)',\n",
       " 'The Prestige (2006)',\n",
       " 'The Pianist (2002)',\n",
       " 'The Matrix (1999)',\n",
       " 'The Lord of the Rings: The Two Towers (2002)',\n",
       " 'The Lord of the Rings: The Return of the King (2003)',\n",
       " 'The Lord of the Rings: The Fellowship of the Ring (2001)',\n",
       " 'The Lives of Others (2006, Germ.)',\n",
       " 'The Lion King (1994)',\n",
       " 'The Intouchables (2011)',\n",
       " 'The Hunt (2012, Denm/Swe.)',\n",
       " 'The Green Mile (1999)',\n",
       " 'The Great Dictator (1940)',\n",
       " 'The Good, the Bad, and the Ugly (1966) (It.)',\n",
       " 'The Godfather, Part II (1974)',\n",
       " 'The Godfather (1972)',\n",
       " 'The Departed (2006)',\n",
       " 'The Dark Knight Rises (2012)',\n",
       " 'The Dark Knight (2009)',\n",
       " 'The Bicycle Thief (1948, It.)',\n",
       " 'Terminator 2: Judgment Day (1991)',\n",
       " 'Sunset Boulevard (1950)',\n",
       " 'Star Wars: Episode VI - Return of the Jedi (1983)',\n",
       " 'Star Wars: Episode V: The Empire Strikes Back (1980)',\n",
       " 'Star Wars (1977)',\n",
       " 'Spirited Away (2001, Jp.)',\n",
       " 'Spider-Man: Into the Spider-Verse (2018)',\n",
       " 'Se7en (1995)',\n",
       " \"Schindler's List (1993)\",\n",
       " 'Saving Private Ryan (1998)',\n",
       " 'Reservoir Dogs (1992)',\n",
       " 'Requiem for a Dream (2000)',\n",
       " 'Rear Window (1954)',\n",
       " 'Raiders of the Lost Ark (1981)',\n",
       " 'Pulp Fiction (1994)',\n",
       " 'Psycho (1960)',\n",
       " 'Princess Mononoke (1997, Jp.)',\n",
       " 'Paths of Glory (1957)',\n",
       " 'Parasite (2019)',\n",
       " \"One Flew Over The Cuckoo's Nest (1975)\",\n",
       " 'Once Upon a Time in the West (1969) (It.)',\n",
       " 'Once Upon a Time in America (1984)',\n",
       " 'Oldboy (2003, S.Kor.)',\n",
       " 'Modern Times (1936)',\n",
       " 'Memento (2000)',\n",
       " 'M (1931) (Ger.)',\n",
       " 'Like Stars on Earth (2007, India)',\n",
       " 'Life is Beautiful (1997) (It.)',\n",
       " 'Leon, aka The Professional (1994) (Fr.)',\n",
       " 'Joker (2019)',\n",
       " \"It's A Wonderful Life (1946)\",\n",
       " 'Interstellar (2014)',\n",
       " 'Inglourious Basterds (2009)',\n",
       " 'Inception (2010)',\n",
       " 'High and Low (1963, Jp.)',\n",
       " 'Harakiri (1962)',\n",
       " 'Hamilton (2020)',\n",
       " 'Grave of the Fireflies (1988, Jp.)',\n",
       " 'GoodFellas (1990)',\n",
       " 'Good Will Hunting (1997)',\n",
       " 'Gladiator (2000)',\n",
       " 'Full Metal Jacket (1987)',\n",
       " 'Forrest Gump (1994)',\n",
       " 'Fight Club (1999)',\n",
       " 'Eternal Sunshine of the Spotless Mind (2004)',\n",
       " 'Dr. Strangelove or: How I Learned To Stop Worrying and Love the Bomb (1964)',\n",
       " 'Django Unchained (2012)',\n",
       " 'Das Boot (1981) (Ger.)',\n",
       " 'Dangal (2016, India)',\n",
       " 'Coco (2017)',\n",
       " 'City of God (2002, Brazil/Fr.)',\n",
       " 'City Lights (1931)',\n",
       " 'Citizen Kane (1941)',\n",
       " 'Cinema Paradiso (1988)',\n",
       " 'Casablanca (1942)',\n",
       " 'Capernaum (2018, Leb.)',\n",
       " 'Braveheart (1995)',\n",
       " 'Back to the Future (1985)',\n",
       " 'Avengers: Infinity War (2018)',\n",
       " 'Avengers: Endgame (2019)',\n",
       " 'Apocalypse Now (1979)',\n",
       " 'American History X (1998)',\n",
       " 'American Beauty (1999)',\n",
       " 'Amadeus (1984)',\n",
       " 'Aliens (1986)',\n",
       " 'Alien (1979)',\n",
       " '3 Idiots (2009, India)',\n",
       " '2001: A Space Odyssey (1968)',\n",
       " '1917 (2019)',\n",
       " '12 Angry Men (1957)']"
      ]
     },
     "execution_count": 25,
     "metadata": {},
     "output_type": "execute_result"
    }
   ],
   "source": [
    "movies.sort(reverse=True)\n",
    "movies"
   ]
  },
  {
   "cell_type": "code",
   "execution_count": 26,
   "metadata": {},
   "outputs": [
    {
     "data": {
      "text/plain": [
       "100"
      ]
     },
     "execution_count": 26,
     "metadata": {},
     "output_type": "execute_result"
    }
   ],
   "source": [
    "len(movies)"
   ]
  },
  {
   "cell_type": "code",
   "execution_count": 27,
   "metadata": {},
   "outputs": [
    {
     "data": {
      "text/plain": [
       "1"
      ]
     },
     "execution_count": 27,
     "metadata": {},
     "output_type": "execute_result"
    }
   ],
   "source": [
    "movies.count('The Matrix (1999)')"
   ]
  },
  {
   "cell_type": "code",
   "execution_count": 28,
   "metadata": {},
   "outputs": [
    {
     "data": {
      "text/plain": [
       "13"
      ]
     },
     "execution_count": 28,
     "metadata": {},
     "output_type": "execute_result"
    }
   ],
   "source": [
    "movies.index('The Matrix (1999)')"
   ]
  },
  {
   "cell_type": "code",
   "execution_count": 24,
   "metadata": {},
   "outputs": [
    {
     "name": "stdout",
     "output_type": "stream",
     "text": [
      "3\n",
      "1\n",
      "2\n",
      "0\n",
      "5\n"
     ]
    }
   ],
   "source": [
    "x = [1,1,1,2,3,3,5,5,5,5,5]\n",
    "print(x.count(1))\n",
    "print(x.count(2))\n",
    "print(x.count(3))\n",
    "print(x.count(4))\n",
    "print(x.count(5))\n"
   ]
  },
  {
   "cell_type": "code",
   "execution_count": 29,
   "metadata": {},
   "outputs": [
    {
     "data": {
      "text/plain": [
       "['Your Name. (2016)',\n",
       " 'Witness For the Prosecution (1957)',\n",
       " 'Whiplash (2014)',\n",
       " 'WALL-E (2008)',\n",
       " 'Vertigo (1958)',\n",
       " 'Toy Story (1995)',\n",
       " 'The Usual Suspects (1995)',\n",
       " 'The Silence of the Lambs (1991)',\n",
       " 'The Shining (1980)',\n",
       " 'The Shawshank Redemption (1994)',\n",
       " 'The Seven Samurai (1954) (Jp.)',\n",
       " 'The Prestige (2006)',\n",
       " 'The Pianist (2002)',\n",
       " 'The Matrix (1999)',\n",
       " 'The Lord of the Rings: The Two Towers (2002)',\n",
       " 'The Lord of the Rings: The Return of the King (2003)',\n",
       " 'The Lord of the Rings: The Fellowship of the Ring (2001)',\n",
       " 'The Lives of Others (2006, Germ.)',\n",
       " 'The Lion King (1994)',\n",
       " 'The Intouchables (2011)',\n",
       " 'The Hunt (2012, Denm/Swe.)',\n",
       " 'The Green Mile (1999)',\n",
       " 'The Great Dictator (1940)',\n",
       " 'The Good, the Bad, and the Ugly (1966) (It.)',\n",
       " 'The Godfather, Part II (1974)',\n",
       " 'The Godfather (1972)',\n",
       " 'The Departed (2006)',\n",
       " 'The Dark Knight Rises (2012)',\n",
       " 'The Dark Knight (2009)',\n",
       " 'The Bicycle Thief (1948, It.)',\n",
       " 'Terminator 2: Judgment Day (1991)',\n",
       " 'Sunset Boulevard (1950)',\n",
       " 'Star Wars: Episode VI - Return of the Jedi (1983)',\n",
       " 'Star Wars: Episode V: The Empire Strikes Back (1980)',\n",
       " 'Star Wars (1977)',\n",
       " 'Spirited Away (2001, Jp.)',\n",
       " 'Spider-Man: Into the Spider-Verse (2018)',\n",
       " 'Se7en (1995)',\n",
       " \"Schindler's List (1993)\",\n",
       " 'Saving Private Ryan (1998)',\n",
       " 'Reservoir Dogs (1992)',\n",
       " 'Requiem for a Dream (2000)',\n",
       " 'Rear Window (1954)',\n",
       " 'Raiders of the Lost Ark (1981)',\n",
       " 'Pulp Fiction (1994)',\n",
       " 'Psycho (1960)',\n",
       " 'Princess Mononoke (1997, Jp.)',\n",
       " 'Paths of Glory (1957)',\n",
       " 'Parasite (2019)',\n",
       " \"One Flew Over The Cuckoo's Nest (1975)\",\n",
       " 'Once Upon a Time in the West (1969) (It.)',\n",
       " 'Once Upon a Time in America (1984)',\n",
       " 'Oldboy (2003, S.Kor.)',\n",
       " 'Modern Times (1936)',\n",
       " 'Memento (2000)',\n",
       " 'M (1931) (Ger.)',\n",
       " 'Like Stars on Earth (2007, India)',\n",
       " 'Life is Beautiful (1997) (It.)',\n",
       " 'Leon, aka The Professional (1994) (Fr.)',\n",
       " 'Joker (2019)',\n",
       " \"It's A Wonderful Life (1946)\",\n",
       " 'Interstellar (2014)',\n",
       " 'Inglourious Basterds (2009)',\n",
       " 'Inception (2010)',\n",
       " 'High and Low (1963, Jp.)',\n",
       " 'Harakiri (1962)',\n",
       " 'Hamilton (2020)',\n",
       " 'Grave of the Fireflies (1988, Jp.)',\n",
       " 'GoodFellas (1990)',\n",
       " 'Good Will Hunting (1997)',\n",
       " 'Gladiator (2000)',\n",
       " 'Full Metal Jacket (1987)',\n",
       " 'Forrest Gump (1994)',\n",
       " 'Fight Club (1999)',\n",
       " 'Eternal Sunshine of the Spotless Mind (2004)',\n",
       " 'Dr. Strangelove or: How I Learned To Stop Worrying and Love the Bomb (1964)',\n",
       " 'Django Unchained (2012)',\n",
       " 'Das Boot (1981) (Ger.)',\n",
       " 'Dangal (2016, India)',\n",
       " 'Coco (2017)',\n",
       " 'City of God (2002, Brazil/Fr.)',\n",
       " 'City Lights (1931)',\n",
       " 'Citizen Kane (1941)',\n",
       " 'Cinema Paradiso (1988)',\n",
       " 'Casablanca (1942)',\n",
       " 'Capernaum (2018, Leb.)',\n",
       " 'Braveheart (1995)',\n",
       " 'Back to the Future (1985)',\n",
       " 'Avengers: Infinity War (2018)',\n",
       " 'Avengers: Endgame (2019)',\n",
       " 'Apocalypse Now (1979)',\n",
       " 'American History X (1998)',\n",
       " 'American Beauty (1999)',\n",
       " 'Amadeus (1984)',\n",
       " 'Aliens (1986)',\n",
       " 'Alien (1979)',\n",
       " '3 Idiots (2009, India)',\n",
       " '2001: A Space Odyssey (1968)',\n",
       " '1917 (2019)',\n",
       " '12 Angry Men (1957)']"
      ]
     },
     "execution_count": 29,
     "metadata": {},
     "output_type": "execute_result"
    }
   ],
   "source": [
    "movies_bk= movies.copy() #copies the movies to a new location\n",
    "movies_bk"
   ]
  },
  {
   "cell_type": "code",
   "execution_count": 30,
   "metadata": {},
   "outputs": [
    {
     "name": "stdout",
     "output_type": "stream",
     "text": [
      "[17, 34, 15, 13, 14, 16, 25, 31, 18, 31, 30, 19, 18, 17, 44, 52, 56, 33, 20, 23, 26, 21, 25, 44, 29, 20, 19, 28, 22, 29, 33, 23, 49, 52, 16, 25, 40, 12, 23, 26, 21, 26, 18, 30, 19, 13, 29, 21, 15, 38, 41, 34, 21, 19, 14, 15, 33, 30, 39, 12, 28, 19, 27, 16, 24, 15, 15, 34, 17, 24, 16, 24, 19, 17, 44, 75, 23, 22, 20, 11, 30, 18, 19, 22, 17, 22, 17, 25, 29, 24, 21, 25, 22, 14, 13, 12, 22, 28, 11, 19]\n"
     ]
    }
   ],
   "source": [
    "size_movies = []\n",
    "for movie in movies:\n",
    "    s = len(movie)\n",
    "    size_movies.append(s)\n",
    "print(size_movies)"
   ]
  },
  {
   "cell_type": "markdown",
   "metadata": {},
   "source": [
    "# comprehension"
   ]
  },
  {
   "cell_type": "code",
   "execution_count": 32,
   "metadata": {},
   "outputs": [
    {
     "data": {
      "text/plain": [
       "[17,\n",
       " 34,\n",
       " 15,\n",
       " 13,\n",
       " 14,\n",
       " 16,\n",
       " 25,\n",
       " 31,\n",
       " 18,\n",
       " 31,\n",
       " 30,\n",
       " 19,\n",
       " 18,\n",
       " 17,\n",
       " 44,\n",
       " 52,\n",
       " 56,\n",
       " 33,\n",
       " 20,\n",
       " 23,\n",
       " 26,\n",
       " 21,\n",
       " 25,\n",
       " 44,\n",
       " 29,\n",
       " 20,\n",
       " 19,\n",
       " 28,\n",
       " 22,\n",
       " 29,\n",
       " 33,\n",
       " 23,\n",
       " 49,\n",
       " 52,\n",
       " 16,\n",
       " 25,\n",
       " 40,\n",
       " 12,\n",
       " 23,\n",
       " 26,\n",
       " 21,\n",
       " 26,\n",
       " 18,\n",
       " 30,\n",
       " 19,\n",
       " 13,\n",
       " 29,\n",
       " 21,\n",
       " 15,\n",
       " 38,\n",
       " 41,\n",
       " 34,\n",
       " 21,\n",
       " 19,\n",
       " 14,\n",
       " 15,\n",
       " 33,\n",
       " 30,\n",
       " 39,\n",
       " 12,\n",
       " 28,\n",
       " 19,\n",
       " 27,\n",
       " 16,\n",
       " 24,\n",
       " 15,\n",
       " 15,\n",
       " 34,\n",
       " 17,\n",
       " 24,\n",
       " 16,\n",
       " 24,\n",
       " 19,\n",
       " 17,\n",
       " 44,\n",
       " 75,\n",
       " 23,\n",
       " 22,\n",
       " 20,\n",
       " 11,\n",
       " 30,\n",
       " 18,\n",
       " 19,\n",
       " 22,\n",
       " 17,\n",
       " 22,\n",
       " 17,\n",
       " 25,\n",
       " 29,\n",
       " 24,\n",
       " 21,\n",
       " 25,\n",
       " 22,\n",
       " 14,\n",
       " 13,\n",
       " 12,\n",
       " 22,\n",
       " 28,\n",
       " 11,\n",
       " 19]"
      ]
     },
     "execution_count": 32,
     "metadata": {},
     "output_type": "execute_result"
    }
   ],
   "source": [
    "size__movies = [len(i) for i in movies]\n",
    "size__movies"
   ]
  },
  {
   "cell_type": "code",
   "execution_count": 33,
   "metadata": {},
   "outputs": [
    {
     "data": {
      "text/plain": [
       "[1, 9, 4, 25, 16]"
      ]
     },
     "execution_count": 33,
     "metadata": {},
     "output_type": "execute_result"
    }
   ],
   "source": [
    "x = [1,3,2,5,4]\n",
    "x2 = [i**2 for i in x]\n",
    "x2 "
   ]
  },
  {
   "cell_type": "code",
   "execution_count": 35,
   "metadata": {},
   "outputs": [
    {
     "data": {
      "text/plain": [
       "[4, 16]"
      ]
     },
     "execution_count": 35,
     "metadata": {},
     "output_type": "execute_result"
    }
   ],
   "source": [
    "x = [1,3,2,5,4]\n",
    "x_even = [i**2 for i in x if i%2==0] \n",
    "x_even"
   ]
  },
  {
   "cell_type": "code",
   "execution_count": null,
   "metadata": {},
   "outputs": [],
   "source": []
  }
 ],
 "metadata": {
  "kernelspec": {
   "display_name": "base",
   "language": "python",
   "name": "python3"
  },
  "language_info": {
   "codemirror_mode": {
    "name": "ipython",
    "version": 3
   },
   "file_extension": ".py",
   "mimetype": "text/x-python",
   "name": "python",
   "nbconvert_exporter": "python",
   "pygments_lexer": "ipython3",
   "version": "3.10.9"
  },
  "orig_nbformat": 4
 },
 "nbformat": 4,
 "nbformat_minor": 2
}
