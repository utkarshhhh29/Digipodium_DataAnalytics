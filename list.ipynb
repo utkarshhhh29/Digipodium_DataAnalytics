{
 "cells": [
  {
   "cell_type": "code",
   "execution_count": 8,
   "metadata": {},
   "outputs": [],
   "source": [
    "emp= []\n",
    "x = [1,2,3,4]\n",
    "y = ['abc',1,2,3,\"hello\"]\n",
    "z = [[123],[456],[7],[8,9]]\n",
    "a = [10]*5\n",
    "\n",
    "a.append(20)\n"
   ]
  },
  {
   "cell_type": "code",
   "execution_count": 12,
   "metadata": {},
   "outputs": [
    {
     "name": "stdout",
     "output_type": "stream",
     "text": [
      "[10, 20, 30, 40, 60]\n",
      "10\n",
      "20\n",
      "60\n",
      "[10, 20]\n",
      "[40, 60]\n",
      "[60, 40, 30, 20, 10]\n"
     ]
    }
   ],
   "source": [
    "x = [10,20,30,40]\n",
    "x.append(60)\n",
    "print(x)\n",
    "print(x[0])\n",
    "print(x[1])\n",
    "print(x[-1])\n",
    "print(x[:2])\n",
    "print(x[3:])\n",
    "print(x[::-1])"
   ]
  },
  {
   "cell_type": "code",
   "execution_count": 14,
   "metadata": {},
   "outputs": [
    {
     "name": "stdout",
     "output_type": "stream",
     "text": [
      "10\n",
      "20\n",
      "30\n",
      "40\n",
      "60\n"
     ]
    }
   ],
   "source": [
    "for i in x:\n",
    "    print(i)"
   ]
  },
  {
   "cell_type": "markdown",
   "metadata": {},
   "source": [
    "## 11 functions in a list\n",
    "\n",
    "# adding: \n",
    "    append() - add single item to the end\n",
    "    insert() - insert single item at given index\n",
    "    extend() - merge an list to an exisitng list\n",
    "\n",
    "# remove\n",
    "    remove() - remove single item by value\n",
    "    pop() - remove single item by index\n",
    "    clear() - remove all items\n",
    "\n",
    "# utility\n",
    "    index() - find index of item by value\n",
    "    count() - count repeated items\n",
    "    sort() - sort items\n",
    "    reverse() - reverse items\n",
    "    copy() - copy list"
   ]
  },
  {
   "cell_type": "code",
   "execution_count": null,
   "metadata": {},
   "outputs": [],
   "source": []
  }
 ],
 "metadata": {
  "kernelspec": {
   "display_name": "base",
   "language": "python",
   "name": "python3"
  },
  "language_info": {
   "codemirror_mode": {
    "name": "ipython",
    "version": 3
   },
   "file_extension": ".py",
   "mimetype": "text/x-python",
   "name": "python",
   "nbconvert_exporter": "python",
   "pygments_lexer": "ipython3",
   "version": "3.10.9"
  },
  "orig_nbformat": 4
 },
 "nbformat": 4,
 "nbformat_minor": 2
}
