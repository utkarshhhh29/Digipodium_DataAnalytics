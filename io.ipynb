{
 "cells": [
  {
   "cell_type": "code",
   "execution_count": 1,
   "metadata": {},
   "outputs": [],
   "source": [
    "name = input(\"Enter your name: \")\n",
    "city = input(\"Enter your city: \")"
   ]
  },
  {
   "attachments": {},
   "cell_type": "markdown",
   "metadata": {},
   "source": [
    "typecast"
   ]
  },
  {
   "cell_type": "code",
   "execution_count": 2,
   "metadata": {},
   "outputs": [],
   "source": [
    "a = '900'\n",
    "a_num = int(a)"
   ]
  },
  {
   "cell_type": "code",
   "execution_count": null,
   "metadata": {},
   "outputs": [],
   "source": []
  },
  {
   "cell_type": "code",
   "execution_count": 3,
   "metadata": {},
   "outputs": [
    {
     "data": {
      "text/plain": [
       "19"
      ]
     },
     "execution_count": 3,
     "metadata": {},
     "output_type": "execute_result"
    }
   ],
   "source": [
    "x = int(input(\"Enter first number: \"))\n",
    "y = int(input(\"Enter second number: \"))\n",
    "x+y"
   ]
  },
  {
   "cell_type": "code",
   "execution_count": 3,
   "metadata": {},
   "outputs": [
    {
     "name": "stdout",
     "output_type": "stream",
     "text": [
      "24.0\n"
     ]
    }
   ],
   "source": [
    "p = int(input(\"Enter Principal: \"))\n",
    "r = int(input(\"Enter rate of interest: \"))\n",
    "t = int(input(\"Time interval: \"))\n",
    "si = p*r*t/100\n",
    "print(si)\n",
    "        "
   ]
  },
  {
   "cell_type": "code",
   "execution_count": 4,
   "metadata": {},
   "outputs": [],
   "source": [
    "name = input(\"Enter your name: \")\n",
    "age = int(input(\"Enter your age: \"))\n",
    "city = input(\"Enter your city: \")\n"
   ]
  },
  {
   "cell_type": "code",
   "execution_count": 5,
   "metadata": {},
   "outputs": [
    {
     "name": "stdout",
     "output_type": "stream",
     "text": [
      "My name is  Utkarsh\n",
      "My age is  23\n",
      "My city is  Lucknow\n"
     ]
    }
   ],
   "source": [
    "print('My name is ',name)\n",
    "print('My age is ',age)\n",
    "print('My city is ',city)"
   ]
  },
  {
   "cell_type": "code",
   "execution_count": 6,
   "metadata": {},
   "outputs": [
    {
     "name": "stdout",
     "output_type": "stream",
     "text": [
      "My name is  Utkarsh My age is  23 My city is  Lucknow\n"
     ]
    }
   ],
   "source": [
    "print('My name is ',name,'My age is ',age,'My city is ',city)"
   ]
  },
  {
   "attachments": {},
   "cell_type": "markdown",
   "metadata": {},
   "source": [
    "not recommended"
   ]
  },
  {
   "cell_type": "code",
   "execution_count": 7,
   "metadata": {},
   "outputs": [
    {
     "name": "stdout",
     "output_type": "stream",
     "text": [
      "My name is\n",
      "Utkarsh\n",
      "My age is\n",
      "23\n",
      "My city is\n",
      "Lucknow\n"
     ]
    }
   ],
   "source": [
    "print('My name is',name,'My age is',age,'My city is',city,sep=\"\\n\")"
   ]
  },
  {
   "cell_type": "code",
   "execution_count": 21,
   "metadata": {},
   "outputs": [
    {
     "name": "stdout",
     "output_type": "stream",
     "text": [
      "hi, there."
     ]
    }
   ],
   "source": [
    "print('hi',end=', ')\n",
    "print('there',end = '.')"
   ]
  },
  {
   "attachments": {},
   "cell_type": "markdown",
   "metadata": {},
   "source": [
    "formatable string"
   ]
  },
  {
   "cell_type": "code",
   "execution_count": 22,
   "metadata": {},
   "outputs": [
    {
     "name": "stdout",
     "output_type": "stream",
     "text": [
      "adding a with b will give a+b\n",
      "adding 50 with 30 will give 80\n"
     ]
    }
   ],
   "source": [
    "a = 50\n",
    "b = 30\n",
    "a+b\n",
    "print('adding a with b will give a+b')\n",
    "x = 50\n",
    "y = 30\n",
    "x+y\n",
    "print(f'adding {x} with {y} will give {x+y}')"
   ]
  },
  {
   "attachments": {},
   "cell_type": "markdown",
   "metadata": {},
   "source": [
    "setting decimal places in a string"
   ]
  },
  {
   "cell_type": "code",
   "execution_count": 23,
   "metadata": {},
   "outputs": [
    {
     "name": "stdout",
     "output_type": "stream",
     "text": [
      "10/3=3.3333333333333335\n",
      "10/3=3.33\n",
      "10/3=3.3\n",
      "10/3=3\n",
      "10/3=3.33333\n",
      "10/3=3.333333333333333481363069950021\n"
     ]
    }
   ],
   "source": [
    "u = 10\n",
    "v = 3\n",
    "print(f'{u}/{v}={u/v}')\n",
    "print(f'{u}/{v}={u/v:.2f}')\n",
    "print(f'{u}/{v}={u/v:.1f}')\n",
    "print(f'{u}/{v}={u/v:.0f}')\n",
    "print(f'{u}/{v}={u/v:.5f}')\n",
    "print(f'{u}/{v}={u/v:.30f}')"
   ]
  },
  {
   "cell_type": "code",
   "execution_count": 24,
   "metadata": {},
   "outputs": [
    {
     "name": "stdout",
     "output_type": "stream",
     "text": [
      "Name = Utkarsh\n",
      "age = 23\n",
      "city = Lucknow\n",
      "address = 123, Lucknow\n"
     ]
    }
   ],
   "source": [
    "print(f'Name = {name}')\n",
    "print(f'age = {age}')\n",
    "print(f'city = {city}')\n",
    "address = '123, Lucknow'\n",
    "print(f'address = {address}')"
   ]
  },
  {
   "cell_type": "code",
   "execution_count": 25,
   "metadata": {},
   "outputs": [
    {
     "name": "stdout",
     "output_type": "stream",
     "text": [
      "Name    Utkarsh\n",
      "age     23\n",
      "city    Lucknow\n",
      "address 123, Lucknow\n"
     ]
    }
   ],
   "source": [
    "print(f'Name    {name}')\n",
    "print(f'age     {age}')\n",
    "print(f'city    {city}')\n",
    "print(f'address {address}')"
   ]
  },
  {
   "attachments": {},
   "cell_type": "markdown",
   "metadata": {},
   "source": [
    "fstring spacing"
   ]
  },
  {
   "cell_type": "code",
   "execution_count": 20,
   "metadata": {},
   "outputs": [
    {
     "name": "stdout",
     "output_type": "stream",
     "text": [
      "Name      Utkarsh\n",
      "age       23\n",
      "city      Lucknow\n",
      "address   123, Lucknow\n"
     ]
    }
   ],
   "source": [
    "print(f'{\"Name\":10}{name}')\n",
    "print(f'{\"age\":10}{age}')\n",
    "print(f'{\"city\":10}{city}')\n",
    "print(f'{\"address\":10}{address}')"
   ]
  },
  {
   "attachments": {},
   "cell_type": "markdown",
   "metadata": {},
   "source": [
    "fstring right align >"
   ]
  },
  {
   "cell_type": "code",
   "execution_count": 26,
   "metadata": {},
   "outputs": [
    {
     "name": "stdout",
     "output_type": "stream",
     "text": [
      "Name                                  Utkarsh\n",
      "age                                        23\n",
      "city                                  Lucknow\n",
      "address                          123, Lucknow\n"
     ]
    }
   ],
   "source": [
    "print(f'{\"Name\":10}{name:>35}')\n",
    "print(f'{\"age\":10}{age:>35}')\n",
    "print(f'{\"city\":10}{city:>35}')\n",
    "print(f'{\"address\":10}{address:>35}')"
   ]
  },
  {
   "attachments": {},
   "cell_type": "markdown",
   "metadata": {},
   "source": [
    "fstring right align ^"
   ]
  },
  {
   "cell_type": "code",
   "execution_count": 27,
   "metadata": {},
   "outputs": [
    {
     "name": "stdout",
     "output_type": "stream",
     "text": [
      "Name                    Utkarsh              \n",
      "age                       23                 \n",
      "city                    Lucknow              \n",
      "address              123, Lucknow            \n"
     ]
    }
   ],
   "source": [
    "print(f'{\"Name\":10}{name:^35}')\n",
    "print(f'{\"age\":10}{age:^35}')\n",
    "print(f'{\"city\":10}{city:^35}')\n",
    "print(f'{\"address\":10}{address:^35}')"
   ]
  },
  {
   "attachments": {},
   "cell_type": "markdown",
   "metadata": {},
   "source": [
    "WAP to fimd Hypothneuse using Pythagoras Theorem"
   ]
  },
  {
   "cell_type": "code",
   "execution_count": 32,
   "metadata": {},
   "outputs": [
    {
     "name": "stdout",
     "output_type": "stream",
     "text": [
      "Hypotheneuse is 5\n"
     ]
    }
   ],
   "source": [
    "#h^2 = p^2 + b^2\n",
    "p = int(input(\"Enter perpendicular: \"))\n",
    "b = int(input(\"Enter base: \"))\n",
    "h = (p**2 + b**2)**0.5\n",
    "print(f'Hypotheneuse is {h:.0f}') \n"
   ]
  },
  {
   "cell_type": "code",
   "execution_count": null,
   "metadata": {},
   "outputs": [],
   "source": []
  }
 ],
 "metadata": {
  "kernelspec": {
   "display_name": "base",
   "language": "python",
   "name": "python3"
  },
  "language_info": {
   "codemirror_mode": {
    "name": "ipython",
    "version": 3
   },
   "file_extension": ".py",
   "mimetype": "text/x-python",
   "name": "python",
   "nbconvert_exporter": "python",
   "pygments_lexer": "ipython3",
   "version": "3.10.9"
  },
  "orig_nbformat": 4
 },
 "nbformat": 4,
 "nbformat_minor": 2
}
