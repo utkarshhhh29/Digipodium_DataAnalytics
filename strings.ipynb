{
 "cells": [
  {
   "cell_type": "code",
   "execution_count": 1,
   "metadata": {},
   "outputs": [],
   "source": [
    "a = 'apple'\n",
    "b = \"banana\"\n",
    "c = ''' Hello\n",
    "how are you\n",
    "bye\n",
    "'''\n",
    "addr = r\"C:\\Users\\sriva\\Downloads\\String_Matching.pdf\" #raw string\n"
   ]
  },
  {
   "cell_type": "code",
   "execution_count": 3,
   "metadata": {},
   "outputs": [
    {
     "data": {
      "text/plain": [
       "'apple'"
      ]
     },
     "execution_count": 3,
     "metadata": {},
     "output_type": "execute_result"
    }
   ],
   "source": [
    "a"
   ]
  },
  {
   "attachments": {},
   "cell_type": "markdown",
   "metadata": {},
   "source": [
    "Indexing"
   ]
  },
  {
   "cell_type": "code",
   "execution_count": 4,
   "metadata": {},
   "outputs": [
    {
     "name": "stdout",
     "output_type": "stream",
     "text": [
      "a p p l e\n"
     ]
    }
   ],
   "source": [
    "print(a[0],a[1],a[2],a[3],a[4])"
   ]
  },
  {
   "cell_type": "code",
   "execution_count": 5,
   "metadata": {},
   "outputs": [
    {
     "name": "stdout",
     "output_type": "stream",
     "text": [
      "e l p p a\n"
     ]
    }
   ],
   "source": [
    "print(a[-1],a[-2],a[-3],a[-4],a[-5])"
   ]
  },
  {
   "cell_type": "code",
   "execution_count": 6,
   "metadata": {},
   "outputs": [
    {
     "name": "stdout",
     "output_type": "stream",
     "text": [
      "William Shakespeare\n"
     ]
    }
   ],
   "source": [
    "name = 'William Shakespeare'\n",
    "print(name)\n"
   ]
  },
  {
   "attachments": {},
   "cell_type": "markdown",
   "metadata": {},
   "source": [
    "### Slicing\n",
    "\n",
    "    slicing can be done in any data type which can be indexed"
   ]
  },
  {
   "cell_type": "code",
   "execution_count": 11,
   "metadata": {},
   "outputs": [
    {
     "name": "stdout",
     "output_type": "stream",
     "text": [
      "Shake\n",
      "pear\n",
      "Will\n",
      "are\n"
     ]
    }
   ],
   "source": [
    "print(name[8:13])\n",
    "print(name[-5:-1])\n",
    "print(name[:4])\n",
    "print(name[-3:])"
   ]
  },
  {
   "cell_type": "code",
   "execution_count": 13,
   "metadata": {},
   "outputs": [
    {
     "name": "stdout",
     "output_type": "stream",
     "text": [
      "William\n",
      "Shakespeare\n"
     ]
    }
   ],
   "source": [
    "fname = name[:7]\n",
    "lname = name[8:]\n",
    "print(fname)\n",
    "print(lname)"
   ]
  },
  {
   "attachments": {},
   "cell_type": "markdown",
   "metadata": {},
   "source": [
    "syntax var[start:stop:step]"
   ]
  },
  {
   "cell_type": "code",
   "execution_count": 14,
   "metadata": {},
   "outputs": [
    {
     "data": {
      "text/plain": [
       "'William Shakespeare'"
      ]
     },
     "execution_count": 14,
     "metadata": {},
     "output_type": "execute_result"
    }
   ],
   "source": [
    "name[::]"
   ]
  },
  {
   "cell_type": "code",
   "execution_count": 15,
   "metadata": {},
   "outputs": [
    {
     "data": {
      "text/plain": [
       "'WlimSaepae'"
      ]
     },
     "execution_count": 15,
     "metadata": {},
     "output_type": "execute_result"
    }
   ],
   "source": [
    "name[::2] #2 pos gap"
   ]
  },
  {
   "cell_type": "code",
   "execution_count": 17,
   "metadata": {},
   "outputs": [
    {
     "data": {
      "text/plain": [
       "'eraepsekahS mailliW'"
      ]
     },
     "execution_count": 17,
     "metadata": {},
     "output_type": "execute_result"
    }
   ],
   "source": [
    "name[::-1] #string reversal"
   ]
  },
  {
   "attachments": {},
   "cell_type": "markdown",
   "metadata": {},
   "source": [
    "# formatting functions"
   ]
  },
  {
   "cell_type": "code",
   "execution_count": 31,
   "metadata": {},
   "outputs": [
    {
     "name": "stdout",
     "output_type": "stream",
     "text": [
      "YOU SHOULD STUDY AND PLAY 😵‍💫\n",
      "you should study and play 😵‍💫\n",
      "You Should Study And Play 😵‍💫\n",
      "You should study and play 😵‍💫\n",
      "yOU SHOULD sTUDY AND pLAY 😵‍💫\n"
     ]
    }
   ],
   "source": [
    "msg = \"You should Study and Play 😵‍💫\"\n",
    "print(msg.upper())\n",
    "print(msg.lower())\n",
    "print(msg.title())\n",
    "print(msg.capitalize())\n",
    "print(msg.swapcase())"
   ]
  },
  {
   "cell_type": "code",
   "execution_count": 37,
   "metadata": {},
   "outputs": [
    {
     "name": "stdout",
     "output_type": "stream",
     "text": [
      "False\n",
      "False\n",
      "True\n",
      "False\n",
      "True\n"
     ]
    }
   ],
   "source": [
    "print(msg.isupper())\n",
    "print(msg.islower())\n",
    "print(\"123\".isnumeric())\n",
    "print(\"123\".isalpha())\n",
    "print(\"123\".isalnum())"
   ]
  },
  {
   "cell_type": "code",
   "execution_count": 38,
   "metadata": {},
   "outputs": [
    {
     "name": "stdout",
     "output_type": "stream",
     "text": [
      "True\n",
      "False\n"
     ]
    }
   ],
   "source": [
    "print(\"Mr. Utkarsh\".startswith(\"Mr\"))\n",
    "print(\"Utkarsh\".startswith(\"Mr\"))"
   ]
  },
  {
   "cell_type": "code",
   "execution_count": 41,
   "metadata": {},
   "outputs": [
    {
     "name": "stdout",
     "output_type": "stream",
     "text": [
      "you have given a python file\n",
      "print('hello 🌏')\n"
     ]
    }
   ],
   "source": [
    "file = input(\"Enter file path\")\n",
    "if file.endswith(\".py\"):\n",
    "    print(\"you have given a python file\")\n",
    "    content=open(file).read()\n",
    "    print(content)\n",
    "else:\n",
    "    print(\"you have given me something else\")"
   ]
  },
  {
   "attachments": {},
   "cell_type": "markdown",
   "metadata": {},
   "source": [
    "# utility functions\n",
    "    find()\n",
    "    replace()\n",
    "    split()\n",
    "    splitlines()\n",
    "    join()\n",
    "    count()\n",
    "    strip()"
   ]
  },
  {
   "cell_type": "code",
   "execution_count": 1,
   "metadata": {},
   "outputs": [
    {
     "name": "stdout",
     "output_type": "stream",
     "text": [
      "8\n",
      "-1\n",
      "13\n",
      "5\n"
     ]
    }
   ],
   "source": [
    "quote = \"Journey before destination\"\n",
    "print(quote.find(\"before\"))\n",
    "print(quote.find(\"Before\"))\n",
    "print(quote.find(\"e\",10))\n",
    "print(quote.find(\"e\",5))"
   ]
  },
  {
   "cell_type": "code",
   "execution_count": 48,
   "metadata": {},
   "outputs": [
    {
     "name": "stdout",
     "output_type": "stream",
     "text": [
      "Journay bafora dastination\n"
     ]
    }
   ],
   "source": [
    "print(quote.replace(\"e\",\"a\"))"
   ]
  },
  {
   "cell_type": "code",
   "execution_count": 51,
   "metadata": {},
   "outputs": [
    {
     "name": "stdout",
     "output_type": "stream",
     "text": [
      "Traveling to destination\n"
     ]
    }
   ],
   "source": [
    "print(quote.replace(\"Journey\",\"Traveling\").replace(\"before\",\"to\"))"
   ]
  },
  {
   "cell_type": "code",
   "execution_count": 52,
   "metadata": {},
   "outputs": [
    {
     "name": "stdout",
     "output_type": "stream",
     "text": [
      "99999999\n"
     ]
    }
   ],
   "source": [
    "amt = \"$999,999.99\"\n",
    "print(amt.replace(\"$\",\"\").replace(\",\",\"\").replace(\".\",\"\"))"
   ]
  },
  {
   "cell_type": "code",
   "execution_count": 53,
   "metadata": {},
   "outputs": [
    {
     "name": "stdout",
     "output_type": "stream",
     "text": [
      "99999999\n"
     ]
    }
   ],
   "source": [
    "chars = ['$',',','.']\n",
    "for crap in chars:\n",
    "    amt = amt.replace(crap,\"\")\n",
    "print(amt)"
   ]
  },
  {
   "cell_type": "code",
   "execution_count": 54,
   "metadata": {},
   "outputs": [
    {
     "name": "stdout",
     "output_type": "stream",
     "text": [
      "['You', 'should', 'Study', 'and', 'Play', '😵\\u200d💫']\n"
     ]
    }
   ],
   "source": [
    "print(msg.split())"
   ]
  },
  {
   "cell_type": "code",
   "execution_count": 59,
   "metadata": {},
   "outputs": [
    {
     "name": "stdout",
     "output_type": "stream",
     "text": [
      "['We are ', ', we are t', ', we are everyw', '']\n",
      "['We are here', ' we are there', ' we are everywhere']\n",
      "['We are here', 'we are there', 'we are everywhere']\n"
     ]
    }
   ],
   "source": [
    "msg2 = \"We are here, we are there, we are everywhere\"\n",
    "print(msg2.split(\"here\"))\n",
    "print(msg2.split(\",\"))\n",
    "print(msg2.split(\", \"))"
   ]
  },
  {
   "cell_type": "code",
   "execution_count": 7,
   "metadata": {},
   "outputs": [
    {
     "name": "stdout",
     "output_type": "stream",
     "text": [
      "['twinkle', 'twinkle', 'little', 'star,', 'how', 'i', 'wonder', 'how', 'you', 'are,', 'up', 'above', 'the', 'world', 'so', 'high,', 'like', 'a', 'diamond', 'in', 'the', 'sky,']\n",
      "[' twinkle twinkle little star,', 'how i wonder how you are,', 'up above the world so high,', 'like a diamond in the sky,']\n"
     ]
    }
   ],
   "source": [
    "poem = ''' twinkle twinkle little star,\n",
    "how i wonder how you are,\n",
    "up above the world so high,\n",
    "like a diamond in the sky,\n",
    "'''\n",
    "print(poem.split())\n",
    "print(poem.splitlines())"
   ]
  },
  {
   "cell_type": "code",
   "execution_count": 63,
   "metadata": {},
   "outputs": [
    {
     "data": {
      "text/plain": [
       "['twinkle',\n",
       " 'twinkle',\n",
       " 'little',\n",
       " 'star,',\n",
       " 'how',\n",
       " 'i',\n",
       " 'wonder',\n",
       " 'how',\n",
       " 'you',\n",
       " 'are,',\n",
       " 'up',\n",
       " 'above',\n",
       " 'the',\n",
       " 'world',\n",
       " 'so',\n",
       " 'high,',\n",
       " 'like',\n",
       " 'a',\n",
       " 'diamond',\n",
       " 'in',\n",
       " 'the',\n",
       " 'sky,']"
      ]
     },
     "execution_count": 63,
     "metadata": {},
     "output_type": "execute_result"
    }
   ],
   "source": [
    "poem.split()"
   ]
  },
  {
   "cell_type": "code",
   "execution_count": 65,
   "metadata": {},
   "outputs": [
    {
     "data": {
      "text/plain": [
       "[' twinkle twinkle little star,',\n",
       " 'how i wonder how you are,',\n",
       " 'up above the world so high,',\n",
       " 'like a diamond in the sky,']"
      ]
     },
     "execution_count": 65,
     "metadata": {},
     "output_type": "execute_result"
    }
   ],
   "source": [
    "poem.splitlines()"
   ]
  },
  {
   "cell_type": "code",
   "execution_count": 5,
   "metadata": {},
   "outputs": [
    {
     "name": "stdout",
     "output_type": "stream",
     "text": [
      "hi there how are you ?\n",
      "hi_there_how_are_you_?\n",
      "hi/there/how/are/you/?\n",
      "hiXthereXhowXareXyouX?\n",
      "hi🕶️there🕶️how🕶️are🕶️you🕶️?\n"
     ]
    }
   ],
   "source": [
    "x = ['hi','there','how', 'are', 'you','?']\n",
    "y=' ' #glue strings\n",
    "z='_'\n",
    "a='/'\n",
    "b='X'\n",
    "c='🕶️'\n",
    "print(y.join(x))\n",
    "print(z.join(x))\n",
    "print(a.join(x))\n",
    "print(b.join(x))\n",
    "print(c.join(x))\n",
    "\n"
   ]
  },
  {
   "cell_type": "code",
   "execution_count": 18,
   "metadata": {},
   "outputs": [
    {
     "name": "stdout",
     "output_type": "stream",
     "text": [
      " twinkle twinkle little star,\n",
      "how i wonder how you are,\n",
      "up above the world so high,\n",
      "like a diamond in the sky,\n",
      "\n",
      "2\n",
      "2\n",
      "0\n",
      "0\n",
      "2\n",
      "2\n"
     ]
    }
   ],
   "source": [
    "print(poem)\n",
    "print(poem.count('twinkle'))\n",
    "print(poem.count('twin'))\n",
    "print(poem.count('twinnkkle'))\n",
    "print(poem.count('Twinkle'))\n",
    "print(poem.casefold().count('twinkle'))\n",
    "print(poem.lower().count('twinkle'))"
   ]
  },
  {
   "cell_type": "code",
   "execution_count": 22,
   "metadata": {},
   "outputs": [
    {
     "name": "stdout",
     "output_type": "stream",
     "text": [
      "wrong user\n"
     ]
    }
   ],
   "source": [
    "username = input('Enter username:') # username=    utkarsh (whitespaces)\n",
    "if username == 'utkarsh':\n",
    "    print('welcome')\n",
    "else:\n",
    "    print('wrong user')"
   ]
  },
  {
   "cell_type": "code",
   "execution_count": 23,
   "metadata": {},
   "outputs": [
    {
     "name": "stdout",
     "output_type": "stream",
     "text": [
      "welcome\n"
     ]
    }
   ],
   "source": [
    "username = input('Enter username:') # username=    utkarsh (whitespaces)\n",
    "if username.strip() == 'utkarsh':\n",
    "    print('welcome')\n",
    "else:\n",
    "    print('wrong user')"
   ]
  },
  {
   "cell_type": "code",
   "execution_count": 24,
   "metadata": {},
   "outputs": [
    {
     "name": "stdout",
     "output_type": "stream",
     "text": [
      " \n",
      "\n",
      "hello\n",
      "I am Utkarsh\n",
      "how are you?\n",
      "\n",
      "\n"
     ]
    }
   ],
   "source": [
    "x = ''' \n",
    "\n",
    "hello\n",
    "I am Utkarsh\n",
    "how are you?\n",
    "\n",
    "'''\n",
    "print(x)"
   ]
  },
  {
   "cell_type": "code",
   "execution_count": 26,
   "metadata": {},
   "outputs": [
    {
     "name": "stdout",
     "output_type": "stream",
     "text": [
      "hello\n",
      "I am Utkarsh\n",
      "how are you?\n",
      " \n",
      "\n",
      "hello\n",
      "I am Utkarsh\n",
      "how are you?\n",
      "hello\n",
      "I am Utkarsh\n",
      "how are you?\n",
      "\n",
      "\n"
     ]
    }
   ],
   "source": [
    "x = ''' \n",
    "\n",
    "hello\n",
    "I am Utkarsh\n",
    "how are you?\n",
    "\n",
    "'''\n",
    "print(x.strip())\n",
    "print(x.rstrip())\n",
    "print(x.lstrip())"
   ]
  },
  {
   "cell_type": "code",
   "execution_count": 1,
   "metadata": {},
   "outputs": [
    {
     "name": "stdout",
     "output_type": "stream",
     "text": [
      "ananab\n"
     ]
    }
   ],
   "source": [
    "s = input(\"Enter a string you want to reverse:\")\n",
    "rev = s[::-1]\n",
    "print(rev)"
   ]
  },
  {
   "cell_type": "code",
   "execution_count": 3,
   "metadata": {},
   "outputs": [
    {
     "name": "stdout",
     "output_type": "stream",
     "text": [
      "ananab\n"
     ]
    }
   ],
   "source": [
    "s = \"banana\"\n",
    "rev = \"\"\n",
    "for i in s:\n",
    "    rev = i + rev\n",
    "print(rev)"
   ]
  },
  {
   "cell_type": "code",
   "execution_count": 1,
   "metadata": {},
   "outputs": [
    {
     "name": "stdout",
     "output_type": "stream",
     "text": [
      "Hello user! Your first name is Utkarsh and your surname is Srivastava and you are 23 years old.\n"
     ]
    }
   ],
   "source": [
    "fname = \"Utkarsh\"\n",
    "lname = \"Srivastava\"\n",
    "age = 23\n",
    "print(\"Hello user! Your first name is {} and your surname is {} and you are {} years old.\".format(fname,lname,age))"
   ]
  },
  {
   "cell_type": "code",
   "execution_count": 2,
   "metadata": {},
   "outputs": [
    {
     "name": "stdout",
     "output_type": "stream",
     "text": [
      "Hello user! Your first name is Utkarsh, surname is Srivastava and age is 23\n"
     ]
    }
   ],
   "source": [
    "print(f'Hello user! Your first name is {fname}, surname is {lname} and age is {age}' )"
   ]
  },
  {
   "cell_type": "code",
   "execution_count": 5,
   "metadata": {},
   "outputs": [
    {
     "name": "stdout",
     "output_type": "stream",
     "text": [
      "Name:UtkarshSrivastava, Age:23.\n"
     ]
    }
   ],
   "source": [
    "print(\"Name:{name}, Age:{years}.\".format(name=fname + lname,years=age))"
   ]
  },
  {
   "cell_type": "code",
   "execution_count": 4,
   "metadata": {},
   "outputs": [
    {
     "name": "stdout",
     "output_type": "stream",
     "text": [
      "Utkarsh\n"
     ]
    }
   ],
   "source": [
    "name = \"Utkarsh\"\n",
    "name.replace(\"Utkarsh\",\"UT\")\n",
    "print(name)"
   ]
  },
  {
   "cell_type": "code",
   "execution_count": null,
   "metadata": {},
   "outputs": [],
   "source": []
  }
 ],
 "metadata": {
  "kernelspec": {
   "display_name": "base",
   "language": "python",
   "name": "python3"
  },
  "language_info": {
   "codemirror_mode": {
    "name": "ipython",
    "version": 3
   },
   "file_extension": ".py",
   "mimetype": "text/x-python",
   "name": "python",
   "nbconvert_exporter": "python",
   "pygments_lexer": "ipython3",
   "version": "3.10.9"
  },
  "orig_nbformat": 4
 },
 "nbformat": 4,
 "nbformat_minor": 2
}
