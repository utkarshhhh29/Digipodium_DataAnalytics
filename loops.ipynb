{
 "cells": [
  {
   "attachments": {},
   "cell_type": "markdown",
   "metadata": {},
   "source": [
    "## for loop\n",
    "\n",
    "    for temp in iterable:\n",
    "        statement 1\n",
    "        .\n",
    "        .\n",
    "        statement n\n",
    "\n",
    "iterables - string, list, tuple, set, dictionary, generators (special function that generates data inside RAM - range(),...) "
   ]
  },
  {
   "cell_type": "code",
   "execution_count": 1,
   "metadata": {},
   "outputs": [],
   "source": [
    "movies = [\n",
    "    'Avengers',\n",
    "    'Deadpool',\n",
    "    'X-Men',\n",
    "    'Openheimmer',\n",
    "    'Interstellar',\n",
    "    'Inception',\n",
    "    'Batman',\n",
    "    'Fault in Our Stars',\n",
    "    'Tenet',\n",
    "    'FnF'\n",
    "    ]"
   ]
  },
  {
   "cell_type": "code",
   "execution_count": 2,
   "metadata": {},
   "outputs": [
    {
     "name": "stdout",
     "output_type": "stream",
     "text": [
      "10\n"
     ]
    }
   ],
   "source": [
    "print(len(movies))"
   ]
  },
  {
   "cell_type": "code",
   "execution_count": 3,
   "metadata": {},
   "outputs": [
    {
     "name": "stdout",
     "output_type": "stream",
     "text": [
      "Avengers\n",
      "Deadpool\n",
      "X-Men\n",
      "Openheimmer\n",
      "Interstellar\n",
      "Inception\n",
      "Batman\n",
      "Fault in Our Stars\n",
      "Tenet\n",
      "FnF\n"
     ]
    }
   ],
   "source": [
    "for title in movies:\n",
    "    print(title)"
   ]
  },
  {
   "cell_type": "code",
   "execution_count": 10,
   "metadata": {},
   "outputs": [
    {
     "name": "stdout",
     "output_type": "stream",
     "text": [
      "Avengers                        8 characters\n",
      "Deadpool                        8 characters\n",
      "X-Men                           5 characters\n",
      "Openheimmer                    11 characters\n",
      "Interstellar                   12 characters\n",
      "Inception                       9 characters\n",
      "Batman                          6 characters\n",
      "Fault in Our Stars             18 characters\n",
      "Tenet                           5 characters\n",
      "FnF                             3 characters\n"
     ]
    }
   ],
   "source": [
    "for title in movies:\n",
    "    print(f'{title:30} {len(title):2} characters')"
   ]
  },
  {
   "cell_type": "code",
   "execution_count": 18,
   "metadata": {},
   "outputs": [
    {
     "name": "stdout",
     "output_type": "stream",
     "text": [
      "Avengers\n",
      "Deadpool\n",
      "Interstellar\n",
      "Batman\n",
      "Fault in Our Stars\n"
     ]
    }
   ],
   "source": [
    "for title in movies:\n",
    "    if 'a' in title or 'A' in title:\n",
    "        print(title)"
   ]
  },
  {
   "cell_type": "code",
   "execution_count": 19,
   "metadata": {},
   "outputs": [],
   "source": [
    "books = [\n",
    "    ['Warbreaker','Brandon Sanderson',10],\n",
    "    ['Elantris','Brandon Sanderson',10],\n",
    "    ['The Final Empire','Brandon Sanderson',10],\n",
    "    ['The Well of Ascension','Brandon Sanderson',10],\n",
    "    ['The Hero of Ages','Brandon Sanderson',10],\n",
    "    ['The Way of Kings','Brandon Sanderson',10],\n",
    "    ['Words of Radiance','Brandon Sanderson',10],\n",
    "    ['Oathbringer','Brandon Sanderson',10],\n",
    "    ['The Great Gatsby','F. Scott Fitzgerald',8],\n",
    "    ['Hamlet','William Shakespeare',9]\n",
    "]"
   ]
  },
  {
   "cell_type": "code",
   "execution_count": 29,
   "metadata": {},
   "outputs": [
    {
     "name": "stdout",
     "output_type": "stream",
     "text": [
      "Warbreaker\n",
      "Brandon Sanderson\n",
      "10\n",
      "\n",
      "Elantris\n",
      "Brandon Sanderson\n",
      "10\n",
      "\n",
      "The Final Empire\n",
      "Brandon Sanderson\n",
      "10\n",
      "\n",
      "The Well of Ascension\n",
      "Brandon Sanderson\n",
      "10\n",
      "\n",
      "The Hero of Ages\n",
      "Brandon Sanderson\n",
      "10\n",
      "\n",
      "The Way of Kings\n",
      "Brandon Sanderson\n",
      "10\n",
      "\n",
      "Words of Radiance\n",
      "Brandon Sanderson\n",
      "10\n",
      "\n",
      "Oathbringer\n",
      "Brandon Sanderson\n",
      "10\n",
      "\n",
      "The Great Gatsby\n",
      "F. Scott Fitzgerald\n",
      "8\n",
      "\n",
      "Hamlet\n",
      "William Shakespeare\n",
      "9\n",
      "\n"
     ]
    }
   ],
   "source": [
    "for book in books:\n",
    "    for field in book:\n",
    "        print(field)\n",
    "    print()"
   ]
  },
  {
   "cell_type": "code",
   "execution_count": 30,
   "metadata": {},
   "outputs": [
    {
     "name": "stdout",
     "output_type": "stream",
     "text": [
      "Book name:          Warbreaker\n",
      "Author:             Brandon Sanderson\n",
      "Rating:             10\n",
      "\n",
      "Book name:          Elantris\n",
      "Author:             Brandon Sanderson\n",
      "Rating:             10\n",
      "\n",
      "Book name:          The Final Empire\n",
      "Author:             Brandon Sanderson\n",
      "Rating:             10\n",
      "\n",
      "Book name:          The Well of Ascension\n",
      "Author:             Brandon Sanderson\n",
      "Rating:             10\n",
      "\n",
      "Book name:          The Hero of Ages\n",
      "Author:             Brandon Sanderson\n",
      "Rating:             10\n",
      "\n",
      "Book name:          The Way of Kings\n",
      "Author:             Brandon Sanderson\n",
      "Rating:             10\n",
      "\n",
      "Book name:          Words of Radiance\n",
      "Author:             Brandon Sanderson\n",
      "Rating:             10\n",
      "\n",
      "Book name:          Oathbringer\n",
      "Author:             Brandon Sanderson\n",
      "Rating:             10\n",
      "\n",
      "Book name:          The Great Gatsby\n",
      "Author:             F. Scott Fitzgerald\n",
      "Rating:             8\n",
      "\n",
      "Book name:          Hamlet\n",
      "Author:             William Shakespeare\n",
      "Rating:             9\n",
      "\n"
     ]
    }
   ],
   "source": [
    "for book in books:\n",
    "    print(f'{\"Book name:\":20}{book[0]}')\n",
    "    print(f'{\"Author:\":20}{book[1]}')\n",
    "    print(f'{\"Rating:\":20}{book[2]}')\n",
    "    print()"
   ]
  },
  {
   "cell_type": "code",
   "execution_count": null,
   "metadata": {},
   "outputs": [],
   "source": []
  }
 ],
 "metadata": {
  "kernelspec": {
   "display_name": "base",
   "language": "python",
   "name": "python3"
  },
  "language_info": {
   "codemirror_mode": {
    "name": "ipython",
    "version": 3
   },
   "file_extension": ".py",
   "mimetype": "text/x-python",
   "name": "python",
   "nbconvert_exporter": "python",
   "pygments_lexer": "ipython3",
   "version": "3.10.9"
  },
  "orig_nbformat": 4
 },
 "nbformat": 4,
 "nbformat_minor": 2
}
