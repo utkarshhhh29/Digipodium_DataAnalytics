{
 "cells": [
  {
   "attachments": {},
   "cell_type": "markdown",
   "metadata": {},
   "source": [
    "## for loop\n",
    "\n",
    "    for temp in iterable:\n",
    "        statement 1\n",
    "        .\n",
    "        .\n",
    "        statement n\n",
    "\n",
    "iterables - string, list, tuple, set, dictionary, generators (special function that generates data inside RAM - range(),...) "
   ]
  },
  {
   "cell_type": "code",
   "execution_count": 1,
   "metadata": {},
   "outputs": [],
   "source": [
    "movies = [\n",
    "    'Avengers',\n",
    "    'Deadpool',\n",
    "    'X-Men',\n",
    "    'Openheimmer',\n",
    "    'Interstellar',\n",
    "    'Inception',\n",
    "    'Batman',\n",
    "    'Fault in Our Stars',\n",
    "    'Tenet',\n",
    "    'FnF'\n",
    "    ]"
   ]
  },
  {
   "cell_type": "code",
   "execution_count": 2,
   "metadata": {},
   "outputs": [
    {
     "name": "stdout",
     "output_type": "stream",
     "text": [
      "10\n"
     ]
    }
   ],
   "source": [
    "print(len(movies))"
   ]
  },
  {
   "cell_type": "code",
   "execution_count": 3,
   "metadata": {},
   "outputs": [
    {
     "name": "stdout",
     "output_type": "stream",
     "text": [
      "Avengers\n",
      "Deadpool\n",
      "X-Men\n",
      "Openheimmer\n",
      "Interstellar\n",
      "Inception\n",
      "Batman\n",
      "Fault in Our Stars\n",
      "Tenet\n",
      "FnF\n"
     ]
    }
   ],
   "source": [
    "for title in movies:\n",
    "    print(title)"
   ]
  },
  {
   "cell_type": "code",
   "execution_count": 10,
   "metadata": {},
   "outputs": [
    {
     "name": "stdout",
     "output_type": "stream",
     "text": [
      "Avengers                        8 characters\n",
      "Deadpool                        8 characters\n",
      "X-Men                           5 characters\n",
      "Openheimmer                    11 characters\n",
      "Interstellar                   12 characters\n",
      "Inception                       9 characters\n",
      "Batman                          6 characters\n",
      "Fault in Our Stars             18 characters\n",
      "Tenet                           5 characters\n",
      "FnF                             3 characters\n"
     ]
    }
   ],
   "source": [
    "for title in movies:\n",
    "    print(f'{title:30} {len(title):2} characters')"
   ]
  },
  {
   "cell_type": "code",
   "execution_count": 18,
   "metadata": {},
   "outputs": [
    {
     "name": "stdout",
     "output_type": "stream",
     "text": [
      "Avengers\n",
      "Deadpool\n",
      "Interstellar\n",
      "Batman\n",
      "Fault in Our Stars\n"
     ]
    }
   ],
   "source": [
    "for title in movies:\n",
    "    if 'a' in title or 'A' in title:\n",
    "        print(title)"
   ]
  },
  {
   "cell_type": "code",
   "execution_count": 19,
   "metadata": {},
   "outputs": [],
   "source": [
    "books = [\n",
    "    ['Warbreaker','Brandon Sanderson',10],\n",
    "    ['Elantris','Brandon Sanderson',10],\n",
    "    ['The Final Empire','Brandon Sanderson',10],\n",
    "    ['The Well of Ascension','Brandon Sanderson',10],\n",
    "    ['The Hero of Ages','Brandon Sanderson',10],\n",
    "    ['The Way of Kings','Brandon Sanderson',10],\n",
    "    ['Words of Radiance','Brandon Sanderson',10],\n",
    "    ['Oathbringer','Brandon Sanderson',10],\n",
    "    ['The Great Gatsby','F. Scott Fitzgerald',8],\n",
    "    ['Hamlet','William Shakespeare',9]\n",
    "]"
   ]
  },
  {
   "cell_type": "code",
   "execution_count": 29,
   "metadata": {},
   "outputs": [
    {
     "name": "stdout",
     "output_type": "stream",
     "text": [
      "Warbreaker\n",
      "Brandon Sanderson\n",
      "10\n",
      "\n",
      "Elantris\n",
      "Brandon Sanderson\n",
      "10\n",
      "\n",
      "The Final Empire\n",
      "Brandon Sanderson\n",
      "10\n",
      "\n",
      "The Well of Ascension\n",
      "Brandon Sanderson\n",
      "10\n",
      "\n",
      "The Hero of Ages\n",
      "Brandon Sanderson\n",
      "10\n",
      "\n",
      "The Way of Kings\n",
      "Brandon Sanderson\n",
      "10\n",
      "\n",
      "Words of Radiance\n",
      "Brandon Sanderson\n",
      "10\n",
      "\n",
      "Oathbringer\n",
      "Brandon Sanderson\n",
      "10\n",
      "\n",
      "The Great Gatsby\n",
      "F. Scott Fitzgerald\n",
      "8\n",
      "\n",
      "Hamlet\n",
      "William Shakespeare\n",
      "9\n",
      "\n"
     ]
    }
   ],
   "source": [
    "for book in books:\n",
    "    for field in book:\n",
    "        print(field)\n",
    "    print()"
   ]
  },
  {
   "cell_type": "code",
   "execution_count": 30,
   "metadata": {},
   "outputs": [
    {
     "name": "stdout",
     "output_type": "stream",
     "text": [
      "Book name:          Warbreaker\n",
      "Author:             Brandon Sanderson\n",
      "Rating:             10\n",
      "\n",
      "Book name:          Elantris\n",
      "Author:             Brandon Sanderson\n",
      "Rating:             10\n",
      "\n",
      "Book name:          The Final Empire\n",
      "Author:             Brandon Sanderson\n",
      "Rating:             10\n",
      "\n",
      "Book name:          The Well of Ascension\n",
      "Author:             Brandon Sanderson\n",
      "Rating:             10\n",
      "\n",
      "Book name:          The Hero of Ages\n",
      "Author:             Brandon Sanderson\n",
      "Rating:             10\n",
      "\n",
      "Book name:          The Way of Kings\n",
      "Author:             Brandon Sanderson\n",
      "Rating:             10\n",
      "\n",
      "Book name:          Words of Radiance\n",
      "Author:             Brandon Sanderson\n",
      "Rating:             10\n",
      "\n",
      "Book name:          Oathbringer\n",
      "Author:             Brandon Sanderson\n",
      "Rating:             10\n",
      "\n",
      "Book name:          The Great Gatsby\n",
      "Author:             F. Scott Fitzgerald\n",
      "Rating:             8\n",
      "\n",
      "Book name:          Hamlet\n",
      "Author:             William Shakespeare\n",
      "Rating:             9\n",
      "\n"
     ]
    }
   ],
   "source": [
    "for book in books:\n",
    "    print(f'{\"Book name:\":20}{book[0]}')\n",
    "    print(f'{\"Author:\":20}{book[1]}')\n",
    "    print(f'{\"Rating:\":20}{book[2]}')\n",
    "    print()"
   ]
  },
  {
   "cell_type": "code",
   "execution_count": 5,
   "metadata": {},
   "outputs": [
    {
     "name": "stdout",
     "output_type": "stream",
     "text": [
      "9239\n",
      "530\n",
      "345\n"
     ]
    }
   ],
   "source": [
    "prices = [9239,530,345,None,541,672,None,882,892]\n",
    "for price in prices:\n",
    "    if price is None:\n",
    "        break\n",
    "    print(price)"
   ]
  },
  {
   "cell_type": "code",
   "execution_count": 6,
   "metadata": {},
   "outputs": [
    {
     "name": "stdout",
     "output_type": "stream",
     "text": [
      "9239\n",
      "530\n",
      "345\n",
      "541\n",
      "672\n",
      "882\n",
      "892\n"
     ]
    }
   ],
   "source": [
    "prices = [9239,530,345,None,541,672,None,882,892]\n",
    "for price in prices:\n",
    "    if price is None:\n",
    "        continue\n",
    "    print(price)"
   ]
  },
  {
   "cell_type": "code",
   "execution_count": 83,
   "metadata": {},
   "outputs": [
    {
     "name": "stdout",
     "output_type": "stream",
     "text": [
      "(0, 'Sage')\n",
      "(1, 'Phoenix')\n",
      "(2, 'Breach')\n",
      "(3, 'Raze')\n",
      "(4, 'Cypher')\n",
      "(5, 'Killjoy')\n"
     ]
    }
   ],
   "source": [
    "names = ['Sage', 'Phoenix', 'Breach', 'Raze', 'Cypher', 'Killjoy']\n",
    "for name in enumerate(names):\n",
    "    print(name)"
   ]
  },
  {
   "cell_type": "code",
   "execution_count": 10,
   "metadata": {},
   "outputs": [
    {
     "name": "stdout",
     "output_type": "stream",
     "text": [
      "0 Sage\n",
      "1 Phoenix\n",
      "2 Breach\n",
      "3 Raze\n",
      "4 Cypher\n",
      "5 Killjoy\n"
     ]
    }
   ],
   "source": [
    "names = ['Sage', 'Phoenix', 'Breach', 'Raze', 'Cypher', 'Killjoy']\n",
    "for id,name in enumerate(names):\n",
    "    print(id,name)"
   ]
  },
  {
   "cell_type": "code",
   "execution_count": 20,
   "metadata": {},
   "outputs": [
    {
     "name": "stdout",
     "output_type": "stream",
     "text": [
      "bread         20     2    40\n",
      "milk          48     3   144\n",
      "butter        60     2   120\n"
     ]
    }
   ],
   "source": [
    "grocery = ['bread', 'milk', 'butter']\n",
    "prices = [20,48,60]\n",
    "qnty = [2,3,2]\n",
    "for g,p,q in zip(grocery,prices,qnty):\n",
    "    print(f'{g:10} {p:5} {q:5} {p*q:5}')"
   ]
  },
  {
   "cell_type": "code",
   "execution_count": 23,
   "metadata": {},
   "outputs": [
    {
     "name": "stdout",
     "output_type": "stream",
     "text": [
      "2\n",
      "5\n",
      "10\n",
      "25\n"
     ]
    }
   ],
   "source": [
    "num = 50\n",
    "for i in range(2,num):\n",
    "    if num%i == 0:\n",
    "        print(i)"
   ]
  },
  {
   "cell_type": "code",
   "execution_count": 86,
   "metadata": {},
   "outputs": [
    {
     "name": "stdout",
     "output_type": "stream",
     "text": [
      "13 is a prime number\n"
     ]
    }
   ],
   "source": [
    "num = 13\n",
    "for i in range(2,num):\n",
    "    if num%i == 0:\n",
    "        print(f'{num} is not a prime number')\n",
    "        break   \n",
    "else:\n",
    "    print(f'{num} is a prime number')"
   ]
  },
  {
   "cell_type": "code",
   "execution_count": 80,
   "metadata": {},
   "outputs": [
    {
     "name": "stdout",
     "output_type": "stream",
     "text": [
      "13 % 2 = 1\n",
      "13 % 3 = 1\n",
      "13 % 4 = 1\n",
      "13 % 5 = 3\n",
      "13 % 6 = 1\n",
      "13 % 7 = 6\n",
      "13 % 8 = 5\n",
      "13 % 9 = 4\n",
      "13 % 10 = 3\n",
      "13 % 11 = 2\n",
      "13 % 12 = 1\n",
      "13 is a prime number\n"
     ]
    }
   ],
   "source": [
    "num = 13\n",
    "for i in range(2,num):\n",
    "    print(f'{num} % {i} = {num%i}')\n",
    "    if num%i == 0:\n",
    "        continue\n",
    "        print(f'{num} is not a prime number')   \n",
    "else:\n",
    "    print(f'{num} is a prime number')\n",
    "    \n",
    "    "
   ]
  },
  {
   "cell_type": "code",
   "execution_count": 56,
   "metadata": {},
   "outputs": [
    {
     "name": "stdout",
     "output_type": "stream",
     "text": [
      "6\n",
      "65\n",
      "654\n",
      "6543\n",
      "65432\n",
      "654321\n",
      "Reverse number is 654321\n"
     ]
    }
   ],
   "source": [
    "num = 123456\n",
    "rev = 0\n",
    "while num > 0:\n",
    "    last_digit = num%10 #remainder\n",
    "    rev = rev*10+last_digit\n",
    "    num = num//10 #quotient\n",
    "    print(rev)\n",
    "print(f'Reverse number is {rev}')"
   ]
  },
  {
   "cell_type": "code",
   "execution_count": 57,
   "metadata": {},
   "outputs": [
    {
     "name": "stdout",
     "output_type": "stream",
     "text": [
      "Invalid credentials\n",
      "Logged in!\n"
     ]
    }
   ],
   "source": [
    "username = 'admin'\n",
    "password = 'admin123'\n",
    "while True:\n",
    "    u = input('Enter username: ')\n",
    "    p = input('Enter password: ')\n",
    "    if u == username and p == password:\n",
    "        print('Logged in!')\n",
    "        break\n",
    "    else:\n",
    "        print('Invalid credentials')\n",
    "        continue \n"
   ]
  },
  {
   "cell_type": "code",
   "execution_count": null,
   "metadata": {},
   "outputs": [],
   "source": []
  }
 ],
 "metadata": {
  "kernelspec": {
   "display_name": "base",
   "language": "python",
   "name": "python3"
  },
  "language_info": {
   "codemirror_mode": {
    "name": "ipython",
    "version": 3
   },
   "file_extension": ".py",
   "mimetype": "text/x-python",
   "name": "python",
   "nbconvert_exporter": "python",
   "pygments_lexer": "ipython3",
   "version": "3.10.9"
  },
  "orig_nbformat": 4
 },
 "nbformat": 4,
 "nbformat_minor": 2
}
