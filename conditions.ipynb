{
 "cells": [
  {
   "attachments": {},
   "cell_type": "markdown",
   "metadata": {},
   "source": [
    "## true values\n",
    "    -True\n",
    "    -any non zero number\n",
    "    -any non empty string\n",
    "    -any non empty data structure\n",
    "\n",
    "## false values\n",
    "    -False\n",
    "    -0\n",
    "    -empty string\n",
    "    -empty data structure\n",
    "\n",
    "    "
   ]
  },
  {
   "cell_type": "code",
   "execution_count": 1,
   "metadata": {},
   "outputs": [
    {
     "data": {
      "text/plain": [
       "False"
      ]
     },
     "execution_count": 1,
     "metadata": {},
     "output_type": "execute_result"
    }
   ],
   "source": [
    "bool(0)"
   ]
  },
  {
   "cell_type": "code",
   "execution_count": 2,
   "metadata": {},
   "outputs": [
    {
     "data": {
      "text/plain": [
       "False"
      ]
     },
     "execution_count": 2,
     "metadata": {},
     "output_type": "execute_result"
    }
   ],
   "source": [
    "bool('')"
   ]
  },
  {
   "cell_type": "code",
   "execution_count": 3,
   "metadata": {},
   "outputs": [
    {
     "data": {
      "text/plain": [
       "True"
      ]
     },
     "execution_count": 3,
     "metadata": {},
     "output_type": "execute_result"
    }
   ],
   "source": [
    "bool(' ')"
   ]
  },
  {
   "cell_type": "code",
   "execution_count": 4,
   "metadata": {},
   "outputs": [
    {
     "data": {
      "text/plain": [
       "True"
      ]
     },
     "execution_count": 4,
     "metadata": {},
     "output_type": "execute_result"
    }
   ],
   "source": [
    "bool(5)"
   ]
  },
  {
   "attachments": {},
   "cell_type": "markdown",
   "metadata": {},
   "source": [
    "# a python block of code\n",
    "\n",
    "    keyword expression:\n",
    "        statement 1\n",
    "        statement 2\n",
    "        statement 3\n",
    "        ...\n",
    "        statement n\n",
    "    statment outside block\n",
    "\n",
    "4 spaces or 1 tab = 1 intendation\n"
   ]
  },
  {
   "cell_type": "code",
   "execution_count": 5,
   "metadata": {},
   "outputs": [
    {
     "name": "stdout",
     "output_type": "stream",
     "text": [
      "x is greater than y\n"
     ]
    }
   ],
   "source": [
    "x = 30\n",
    "y = 25\n",
    "if x > y:\n",
    "    print('x is greater than y')"
   ]
  },
  {
   "cell_type": "code",
   "execution_count": 6,
   "metadata": {},
   "outputs": [
    {
     "name": "stdout",
     "output_type": "stream",
     "text": [
      "y is greater than x\n"
     ]
    }
   ],
   "source": [
    "x = 25\n",
    "y = 30\n",
    "if x > y:\n",
    "    print('x is greater than y')\n",
    "else:\n",
    "    print('y is greater than x')\n"
   ]
  },
  {
   "cell_type": "code",
   "execution_count": 7,
   "metadata": {},
   "outputs": [
    {
     "name": "stdout",
     "output_type": "stream",
     "text": [
      "x is greater than 10\n",
      "x is greater than 50\n"
     ]
    }
   ],
   "source": [
    "x = int(input('Enter a number: '))\n",
    "if x > 10:\n",
    "    print('x is greater than 10')\n",
    "if x > 50:\n",
    "    print('x is greater than 50')\n",
    "if x >100:\n",
    "    print('x is greater than 100')\n",
    "if x <= 10:\n",
    "    print('x is less than or equal to 10')"
   ]
  },
  {
   "cell_type": "code",
   "execution_count": 10,
   "metadata": {},
   "outputs": [
    {
     "name": "stdout",
     "output_type": "stream",
     "text": [
      "number is between 10 and 20\n"
     ]
    }
   ],
   "source": [
    "x = int(input('enter a number: '))\n",
    "if x > 10 and x <20:\n",
    "    print('number is between 10 and 20')\n",
    "else:\n",
    "    print ('number is outisde the range')"
   ]
  },
  {
   "attachments": {},
   "cell_type": "markdown",
   "metadata": {},
   "source": [
    "WAP to check even and odd"
   ]
  },
  {
   "cell_type": "code",
   "execution_count": 12,
   "metadata": {},
   "outputs": [
    {
     "name": "stdout",
     "output_type": "stream",
     "text": [
      "number is odd\n"
     ]
    }
   ],
   "source": [
    "x = int(input('enter a number: '))  #x = 13\n",
    "if x%2 == 0: \n",
    "    print('number is even')\n",
    "else:\n",
    "    print('number is odd')\n",
    "    "
   ]
  },
  {
   "cell_type": "code",
   "execution_count": 13,
   "metadata": {},
   "outputs": [
    {
     "name": "stdout",
     "output_type": "stream",
     "text": [
      "14 is even\n"
     ]
    }
   ],
   "source": [
    "x = int(input('enter a number: '))  #x = 14\n",
    "if x%2 == 0:\n",
    "    print(f'{x} is even')\n",
    "else:\n",
    "    print(f'{x} is odd')\n",
    "    "
   ]
  },
  {
   "attachments": {},
   "cell_type": "markdown",
   "metadata": {},
   "source": [
    "#elif\n",
    " \n",
    "WAP to compare three numbers"
   ]
  },
  {
   "cell_type": "code",
   "execution_count": 14,
   "metadata": {},
   "outputs": [
    {
     "name": "stdout",
     "output_type": "stream",
     "text": [
      "20 is the biggest number\n"
     ]
    }
   ],
   "source": [
    "x,y,z = 10,20,15\n",
    "if x > y and x>z:\n",
    "    print(f'{x} is the biggest number')\n",
    "elif y>x and y>z:\n",
    "    print(f'{y} is the biggest number')\n",
    "else:\n",
    "    print(f'{z} is the biggest number')"
   ]
  },
  {
   "cell_type": "code",
   "execution_count": 21,
   "metadata": {},
   "outputs": [
    {
     "name": "stdout",
     "output_type": "stream",
     "text": [
      "username and password are valid\n",
      "Username:  Hello\n",
      "Password:  qwerty123456\n"
     ]
    }
   ],
   "source": [
    "username = input('enter your username: ')\n",
    "pwd = input('enter your password: ')\n",
    "if len(username)<3:\n",
    "    print('username must be atleast 3 characters')\n",
    "elif len(pwd)<8:\n",
    "    print('password must be atleast 8 characters')\n",
    "elif not username.isalpha():\n",
    "    print('username must be alphabetic')\n",
    "else:\n",
    "    print('username and password are valid')\n",
    "print('Username: ' ,username)\n",
    "print('Password: ',pwd)"
   ]
  },
  {
   "attachments": {},
   "cell_type": "markdown",
   "metadata": {},
   "source": [
    "### Match case"
   ]
  },
  {
   "cell_type": "code",
   "execution_count": 26,
   "metadata": {},
   "outputs": [
    {
     "name": "stdout",
     "output_type": "stream",
     "text": [
      "today is holiday\n"
     ]
    }
   ],
   "source": [
    "day = input('Enter a day: ')\n",
    "match day:\n",
    "    case 'saturday'|'Saturday':\n",
    "        print('today is saturday')\n",
    "    case 'sunday'|'Sunday':\n",
    "        print('today is sunday')\n",
    "    case 'monday'|'Monday':\n",
    "        print('today is monday')\n",
    "    case 'tuesday'|'Tuesday':\n",
    "        print('today is tuesday')\n",
    "    case 'wednesday'|'Wednesday':\n",
    "        print('today is wednesday')\n",
    "    case 'thursday'| 'holiday'|'Thursday':\n",
    "        print('today is holiday')\n",
    "    case 'friday'|'Friday':\n",
    "        print('today is friday')\n",
    "    case _:\n",
    "        print('invalid day')"
   ]
  },
  {
   "cell_type": "code",
   "execution_count": 7,
   "metadata": {},
   "outputs": [
    {
     "name": "stdout",
     "output_type": "stream",
     "text": [
      "2023 is not a leap year\n"
     ]
    }
   ],
   "source": [
    "year = int(input('Enter year'))\n",
    "if year%4==0 or year%100!=0 and year%400==0:\n",
    "    print(f'{year} is a leap year')\n",
    "else:\n",
    "    print(f'{year} is not a leap year')\n",
    "        "
   ]
  },
  {
   "cell_type": "code",
   "execution_count": null,
   "metadata": {},
   "outputs": [],
   "source": []
  }
 ],
 "metadata": {
  "kernelspec": {
   "display_name": "base",
   "language": "python",
   "name": "python3"
  },
  "language_info": {
   "codemirror_mode": {
    "name": "ipython",
    "version": 3
   },
   "file_extension": ".py",
   "mimetype": "text/x-python",
   "name": "python",
   "nbconvert_exporter": "python",
   "pygments_lexer": "ipython3",
   "version": "3.10.9"
  },
  "orig_nbformat": 4
 },
 "nbformat": 4,
 "nbformat_minor": 2
}
